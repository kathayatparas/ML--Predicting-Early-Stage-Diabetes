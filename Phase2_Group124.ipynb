{
 "cells": [
  {
   "cell_type": "markdown",
   "metadata": {
    "toc": true
   },
   "source": [
    "<h1>Table of Contents<span class=\"tocSkip\"></span></h1>\n",
    "<div class=\"toc\"><ul class=\"toc-item\"><li><span><a href=\"#Case-Study-:-Predicting-Diabetic-Condition-for-Patients\" data-toc-modified-id=\"Case-Study-:-Predicting-Diabetic-Condition-for-Patients-1\"><span class=\"toc-item-num\">1&nbsp;&nbsp;</span>Case Study : Predicting Diabetic Condition for Patients</a></span></li><li><span><a href=\"#Authors\" data-toc-modified-id=\"Authors-2\"><span class=\"toc-item-num\">2&nbsp;&nbsp;</span>Authors</a></span></li><li><span><a href=\"#Introduction\" data-toc-modified-id=\"Introduction-3\"><span class=\"toc-item-num\">3&nbsp;&nbsp;</span>Introduction</a></span><ul class=\"toc-item\"><li><span><a href=\"#Report-Overview\" data-toc-modified-id=\"Report-Overview-3.1\"><span class=\"toc-item-num\">3.1&nbsp;&nbsp;</span>Report Overview<a name=\"reportOverview\"></a></a></span></li><li><span><a href=\"#Overview-of-Methodology\" data-toc-modified-id=\"Overview-of-Methodology-3.2\"><span class=\"toc-item-num\">3.2&nbsp;&nbsp;</span>Overview of Methodology</a></span></li></ul></li><li><span><a href=\"#Data-Preparation\" data-toc-modified-id=\"Data-Preparation-4\"><span class=\"toc-item-num\">4&nbsp;&nbsp;</span>Data Preparation</a></span></li><li><span><a href=\"#Predictive-Modelling\" data-toc-modified-id=\"Predictive-Modelling-5\"><span class=\"toc-item-num\">5&nbsp;&nbsp;</span>Predictive Modelling</a></span><ul class=\"toc-item\"><li><span><a href=\"#Feature-Selection\" data-toc-modified-id=\"Feature-Selection-5.1\"><span class=\"toc-item-num\">5.1&nbsp;&nbsp;</span>Feature Selection</a></span></li><li><span><a href=\"#Model-Fitting-and-Tuning\" data-toc-modified-id=\"Model-Fitting-and-Tuning-5.2\"><span class=\"toc-item-num\">5.2&nbsp;&nbsp;</span>Model Fitting and Tuning</a></span><ul class=\"toc-item\"><li><span><a href=\"#Train-Test-Split-and-Data-Sampling\" data-toc-modified-id=\"Train-Test-Split-and-Data-Sampling-5.2.1\"><span class=\"toc-item-num\">5.2.1&nbsp;&nbsp;</span>Train-Test Split and Data Sampling</a></span></li><li><span><a href=\"#Model-Evaluation-Strategy\" data-toc-modified-id=\"Model-Evaluation-Strategy-5.2.2\"><span class=\"toc-item-num\">5.2.2&nbsp;&nbsp;</span>Model Evaluation Strategy</a></span></li><li><span><a href=\"#Hyperparameter-Tuning\" data-toc-modified-id=\"Hyperparameter-Tuning-5.2.3\"><span class=\"toc-item-num\">5.2.3&nbsp;&nbsp;</span>Hyperparameter Tuning</a></span></li><li><span><a href=\"#K-Nearest-Neighbors-(KNN)\" data-toc-modified-id=\"K-Nearest-Neighbors-(KNN)-5.2.4\"><span class=\"toc-item-num\">5.2.4&nbsp;&nbsp;</span>K-Nearest Neighbors (KNN)</a></span></li><li><span><a href=\"#Decision-Tree-Hyperparameter-Tuning-and-Visualization\" data-toc-modified-id=\"Decision-Tree-Hyperparameter-Tuning-and-Visualization-5.2.5\"><span class=\"toc-item-num\">5.2.5&nbsp;&nbsp;</span>Decision Tree Hyperparameter Tuning and Visualization</a></span><ul class=\"toc-item\"><li><span><a href=\"#Further-Fine-Tuning\" data-toc-modified-id=\"Further-Fine-Tuning-5.2.5.1\"><span class=\"toc-item-num\">5.2.5.1&nbsp;&nbsp;</span>Further Fine Tuning</a></span></li></ul></li><li><span><a href=\"#(Gaussian)-Naive-Bayes-(NB)-Hyperparameter-Tuning-and-Visualization\" data-toc-modified-id=\"(Gaussian)-Naive-Bayes-(NB)-Hyperparameter-Tuning-and-Visualization-5.2.6\"><span class=\"toc-item-num\">5.2.6&nbsp;&nbsp;</span>(Gaussian) Naive Bayes (NB) Hyperparameter Tuning and Visualization</a></span></li><li><span><a href=\"#Random-Forest-Classification-Hyperparameter-Tuning-and-Visualization\" data-toc-modified-id=\"Random-Forest-Classification-Hyperparameter-Tuning-and-Visualization-5.2.7\"><span class=\"toc-item-num\">5.2.7&nbsp;&nbsp;</span>Random Forest Classification Hyperparameter Tuning and Visualization</a></span></li></ul></li><li><span><a href=\"#Model-Comparison\" data-toc-modified-id=\"Model-Comparison-5.3\"><span class=\"toc-item-num\">5.3&nbsp;&nbsp;</span>Model Comparison</a></span></li></ul></li><li><span><a href=\"#Critique-and-Limitations\" data-toc-modified-id=\"Critique-and-Limitations-6\"><span class=\"toc-item-num\">6&nbsp;&nbsp;</span>Critique and Limitations</a></span></li><li><span><a href=\"#Summary-and-Conclusion\" data-toc-modified-id=\"Summary-and-Conclusion-7\"><span class=\"toc-item-num\">7&nbsp;&nbsp;</span>Summary and Conclusion</a></span><ul class=\"toc-item\"><li><ul class=\"toc-item\"><li><span><a href=\"#Project-Summary\" data-toc-modified-id=\"Project-Summary-7.0.1\"><span class=\"toc-item-num\">7.0.1&nbsp;&nbsp;</span>Project Summary</a></span></li><li><span><a href=\"#Summary-of-Findings\" data-toc-modified-id=\"Summary-of-Findings-7.0.2\"><span class=\"toc-item-num\">7.0.2&nbsp;&nbsp;</span>Summary of Findings</a></span></li><li><span><a href=\"#Conclusion\" data-toc-modified-id=\"Conclusion-7.0.3\"><span class=\"toc-item-num\">7.0.3&nbsp;&nbsp;</span>Conclusion</a></span></li></ul></li></ul></li></ul></div>"
   ]
  },
  {
   "cell_type": "markdown",
   "metadata": {},
   "source": [
    "# Case Study : Predicting Diabetic Condition for Patients"
   ]
  },
  {
   "cell_type": "markdown",
   "metadata": {},
   "source": [
    "# Authors \n",
    "**Group No. 124**\n",
    "\n",
    "Achintya Gupta (s3806436@student.rmit.edu.au)\n",
    "\n",
    "Paras Kathayat (s3805876@student.rmit.edu.au)"
   ]
  },
  {
   "cell_type": "markdown",
   "metadata": {},
   "source": [
    "# Introduction"
   ]
  },
  {
   "cell_type": "markdown",
   "metadata": {},
   "source": [
    "## Report Overview<a name=\"reportOverview\"></a>"
   ]
  },
  {
   "cell_type": "markdown",
   "metadata": {},
   "source": [
    "The objective of this case study is to fit and compare four different binary classifiers to predict whether an individual has diabetic condition or not using the data from UCI Machine Learning Repository(2020,August 12), \"Early stage diabetes risk prediction dataset\". \n",
    "\n",
    "The descriptive features include 1 numeric and 15 nominal categorical features. The target feature has two classes defined as \"Positive\" and \"Negative\" respectively. The full dataset contains 520 observations and 17 features.\n"
   ]
  },
  {
   "cell_type": "markdown",
   "metadata": {},
   "source": [
    "## Overview of Methodology"
   ]
  },
  {
   "cell_type": "markdown",
   "metadata": {},
   "source": [
    "We consider the following (binary) four classifiers to predict the target feature:\n",
    "- K-Nearest Neighbors (KNN)\n",
    "- Decision trees (DT)\n",
    "- Naive Bayes (NB)\n",
    "- Random Forest (RF).\n",
    "\n",
    "Our modeling strategy begins with transforming the full dataset which was cleaned during the Phase I. The transformation includes encoding all the categorical descriptive features as numerical and then scaling of all the descriptive features.\n",
    "\n",
    "First, we split the data into training and test sets with a 70:30 ratio respectively. The terminology for the further experiment is:\n",
    "- The 70% of the data used during the hyperparameter tuning phase is called the **training data**.\n",
    "- The remaining 30% of the data used during the performance comparison phase is called the **test data**.\n",
    "\n",
    "Before fitting the classifiers on the training data, we select the best features for the dataset using the powerful `Random Forest Importance` method inside a **pipeline**. [[1]](https://www.featureranking.com/tutorials/machine-learning-tutorials/sk-part-5-advanced-topics-pipelines-statistical-model-comparison-and-model-deployment/). We consider 5, 10 and the full set of descriptive features (with 16 features) after encoding and scaling the of categorical features. Also, using the feature selection together with hyperparameter search inside a single pipeline, we conduct a `5-fold stratified cross-validation` to fine-tune hyperparameters of each classifier with performance metric as  **area under curve (AUC)**.\n",
    "\n",
    "We build each classification model using parallel processing with \"-2\" cores. Since the target feature has more individuals `Positive` diabetic patient (unbalanced target class issue), `stratification` ensures that each validation set gets the same proportion of classes similar to the original dataset. \n",
    "\n",
    "Later we checked for the sensitivity of each classification model with respect to its hyperparameters during the search. The classifiers with the best set of hyperparameter values that are identified via grid-search using the training data are known as **tuned classifiers**. \n",
    "\n",
    "After identifying the four tuned classifiers (with the best hyperparameter values), we **\"fit\"** them on the test data using `10-fold cross-validation` and we perform `paired t-tests` to check if the performance difference among these classifiers is statistically significant. In addition, we use recall scores and confusion matrices to compare the classifiers on the test data."
   ]
  },
  {
   "cell_type": "markdown",
   "metadata": {},
   "source": [
    "# Data Preparation"
   ]
  },
  {
   "cell_type": "markdown",
   "metadata": {},
   "source": [
    "Before moving on to the predictive modelling, we will load the dataset and perform encoding of the categorical features to convert them to numerical and then scalling the numerical feature."
   ]
  },
  {
   "cell_type": "code",
   "execution_count": 1,
   "metadata": {},
   "outputs": [],
   "source": [
    "import numpy as np\n",
    "import pandas as pd\n",
    "import seaborn as sns\n",
    "from sklearn import feature_selection as fs\n",
    "import matplotlib.pyplot as plt\n",
    "from sklearn.ensemble import RandomForestClassifier\n",
    "from sklearn.tree import DecisionTreeClassifier\n",
    "from sklearn.model_selection import cross_val_score, RepeatedStratifiedKFold\n",
    "import io\n",
    "import requests\n",
    "\n",
    "import warnings\n",
    "warnings.filterwarnings(\"ignore\")\n",
    "\n",
    "import os, ssl\n",
    "if (not os.environ.get('PYTHONHTTPSVERIFY', '') and\n",
    "    getattr(ssl, '_create_unverified_context', None)): \n",
    "    ssl._create_default_https_context = ssl._create_unverified_context\n",
    "\n",
    "dataset_url = 'https://raw.githubusercontent.com/vaksakalli/datasets/master/diabetes.csv'\n",
    "url_content = requests.get(dataset_url).content\n",
    "df = pd.read_csv(io.StringIO(url_content.decode('utf-8')))"
   ]
  },
  {
   "cell_type": "code",
   "execution_count": 2,
   "metadata": {},
   "outputs": [
    {
     "data": {
      "text/plain": [
       "(520, 17)"
      ]
     },
     "execution_count": 2,
     "metadata": {},
     "output_type": "execute_result"
    }
   ],
   "source": [
    "df.shape"
   ]
  },
  {
   "cell_type": "code",
   "execution_count": 3,
   "metadata": {},
   "outputs": [
    {
     "data": {
      "text/html": [
       "<div>\n",
       "<style scoped>\n",
       "    .dataframe tbody tr th:only-of-type {\n",
       "        vertical-align: middle;\n",
       "    }\n",
       "\n",
       "    .dataframe tbody tr th {\n",
       "        vertical-align: top;\n",
       "    }\n",
       "\n",
       "    .dataframe thead th {\n",
       "        text-align: right;\n",
       "    }\n",
       "</style>\n",
       "<table border=\"1\" class=\"dataframe\">\n",
       "  <thead>\n",
       "    <tr style=\"text-align: right;\">\n",
       "      <th></th>\n",
       "      <th>Age</th>\n",
       "      <th>Gender</th>\n",
       "      <th>Polyuria</th>\n",
       "      <th>Polydipsia</th>\n",
       "      <th>sudden weight loss</th>\n",
       "      <th>weakness</th>\n",
       "      <th>Polyphagia</th>\n",
       "      <th>Genital thrush</th>\n",
       "      <th>visual blurring</th>\n",
       "      <th>Itching</th>\n",
       "      <th>Irritability</th>\n",
       "      <th>delayed healing</th>\n",
       "      <th>partial paresis</th>\n",
       "      <th>muscle stiffness</th>\n",
       "      <th>Alopecia</th>\n",
       "      <th>Obesity</th>\n",
       "      <th>class</th>\n",
       "    </tr>\n",
       "  </thead>\n",
       "  <tbody>\n",
       "    <tr>\n",
       "      <th>0</th>\n",
       "      <td>40</td>\n",
       "      <td>Male</td>\n",
       "      <td>No</td>\n",
       "      <td>Yes</td>\n",
       "      <td>No</td>\n",
       "      <td>Yes</td>\n",
       "      <td>No</td>\n",
       "      <td>No</td>\n",
       "      <td>No</td>\n",
       "      <td>Yes</td>\n",
       "      <td>No</td>\n",
       "      <td>Yes</td>\n",
       "      <td>No</td>\n",
       "      <td>Yes</td>\n",
       "      <td>Yes</td>\n",
       "      <td>Yes</td>\n",
       "      <td>Positive</td>\n",
       "    </tr>\n",
       "    <tr>\n",
       "      <th>1</th>\n",
       "      <td>58</td>\n",
       "      <td>Male</td>\n",
       "      <td>No</td>\n",
       "      <td>No</td>\n",
       "      <td>No</td>\n",
       "      <td>Yes</td>\n",
       "      <td>No</td>\n",
       "      <td>No</td>\n",
       "      <td>Yes</td>\n",
       "      <td>No</td>\n",
       "      <td>No</td>\n",
       "      <td>No</td>\n",
       "      <td>Yes</td>\n",
       "      <td>No</td>\n",
       "      <td>Yes</td>\n",
       "      <td>No</td>\n",
       "      <td>Positive</td>\n",
       "    </tr>\n",
       "    <tr>\n",
       "      <th>2</th>\n",
       "      <td>41</td>\n",
       "      <td>Male</td>\n",
       "      <td>Yes</td>\n",
       "      <td>No</td>\n",
       "      <td>No</td>\n",
       "      <td>Yes</td>\n",
       "      <td>Yes</td>\n",
       "      <td>No</td>\n",
       "      <td>No</td>\n",
       "      <td>Yes</td>\n",
       "      <td>No</td>\n",
       "      <td>Yes</td>\n",
       "      <td>No</td>\n",
       "      <td>Yes</td>\n",
       "      <td>Yes</td>\n",
       "      <td>No</td>\n",
       "      <td>Positive</td>\n",
       "    </tr>\n",
       "    <tr>\n",
       "      <th>3</th>\n",
       "      <td>45</td>\n",
       "      <td>Male</td>\n",
       "      <td>No</td>\n",
       "      <td>No</td>\n",
       "      <td>Yes</td>\n",
       "      <td>Yes</td>\n",
       "      <td>Yes</td>\n",
       "      <td>Yes</td>\n",
       "      <td>No</td>\n",
       "      <td>Yes</td>\n",
       "      <td>No</td>\n",
       "      <td>Yes</td>\n",
       "      <td>No</td>\n",
       "      <td>No</td>\n",
       "      <td>No</td>\n",
       "      <td>No</td>\n",
       "      <td>Positive</td>\n",
       "    </tr>\n",
       "    <tr>\n",
       "      <th>4</th>\n",
       "      <td>60</td>\n",
       "      <td>Male</td>\n",
       "      <td>Yes</td>\n",
       "      <td>Yes</td>\n",
       "      <td>Yes</td>\n",
       "      <td>Yes</td>\n",
       "      <td>Yes</td>\n",
       "      <td>No</td>\n",
       "      <td>Yes</td>\n",
       "      <td>Yes</td>\n",
       "      <td>Yes</td>\n",
       "      <td>Yes</td>\n",
       "      <td>Yes</td>\n",
       "      <td>Yes</td>\n",
       "      <td>Yes</td>\n",
       "      <td>Yes</td>\n",
       "      <td>Positive</td>\n",
       "    </tr>\n",
       "  </tbody>\n",
       "</table>\n",
       "</div>"
      ],
      "text/plain": [
       "   Age Gender Polyuria Polydipsia sudden weight loss weakness Polyphagia  \\\n",
       "0   40   Male       No        Yes                 No      Yes         No   \n",
       "1   58   Male       No         No                 No      Yes         No   \n",
       "2   41   Male      Yes         No                 No      Yes        Yes   \n",
       "3   45   Male       No         No                Yes      Yes        Yes   \n",
       "4   60   Male      Yes        Yes                Yes      Yes        Yes   \n",
       "\n",
       "  Genital thrush visual blurring Itching Irritability delayed healing  \\\n",
       "0             No              No     Yes           No             Yes   \n",
       "1             No             Yes      No           No              No   \n",
       "2             No              No     Yes           No             Yes   \n",
       "3            Yes              No     Yes           No             Yes   \n",
       "4             No             Yes     Yes          Yes             Yes   \n",
       "\n",
       "  partial paresis muscle stiffness Alopecia Obesity     class  \n",
       "0              No              Yes      Yes     Yes  Positive  \n",
       "1             Yes               No      Yes      No  Positive  \n",
       "2              No              Yes      Yes      No  Positive  \n",
       "3              No               No       No      No  Positive  \n",
       "4             Yes              Yes      Yes     Yes  Positive  "
      ]
     },
     "execution_count": 3,
     "metadata": {},
     "output_type": "execute_result"
    }
   ],
   "source": [
    "df.head(5)"
   ]
  },
  {
   "cell_type": "markdown",
   "metadata": {},
   "source": [
    "Now, we will encode the categorical features from the data to convert them to numerical."
   ]
  },
  {
   "cell_type": "code",
   "execution_count": 4,
   "metadata": {
    "scrolled": true
   },
   "outputs": [
    {
     "name": "stdout",
     "output_type": "stream",
     "text": [
      "Gender : Unique Values\n",
      "['Male' 'Female']\n",
      "\n",
      "\n",
      "Polyuria : Unique Values\n",
      "['No' 'Yes']\n",
      "\n",
      "\n",
      "Polydipsia : Unique Values\n",
      "['Yes' 'No']\n",
      "\n",
      "\n",
      "sudden weight loss : Unique Values\n",
      "['No' 'Yes']\n",
      "\n",
      "\n",
      "weakness : Unique Values\n",
      "['Yes' 'No']\n",
      "\n",
      "\n",
      "Polyphagia : Unique Values\n",
      "['No' 'Yes']\n",
      "\n",
      "\n",
      "Genital thrush : Unique Values\n",
      "['No' 'Yes']\n",
      "\n",
      "\n",
      "visual blurring : Unique Values\n",
      "['No' 'Yes']\n",
      "\n",
      "\n",
      "Itching : Unique Values\n",
      "['Yes' 'No']\n",
      "\n",
      "\n",
      "Irritability : Unique Values\n",
      "['No' 'Yes']\n",
      "\n",
      "\n",
      "delayed healing : Unique Values\n",
      "['Yes' 'No']\n",
      "\n",
      "\n",
      "partial paresis : Unique Values\n",
      "['No' 'Yes']\n",
      "\n",
      "\n",
      "muscle stiffness : Unique Values\n",
      "['Yes' 'No']\n",
      "\n",
      "\n",
      "Alopecia : Unique Values\n",
      "['Yes' 'No']\n",
      "\n",
      "\n",
      "Obesity : Unique Values\n",
      "['Yes' 'No']\n",
      "\n",
      "\n",
      "class : Unique Values\n",
      "['Positive' 'Negative']\n",
      "\n",
      "\n"
     ]
    }
   ],
   "source": [
    "# getting the list of categorical columns from the data.\n",
    "cat_cols = df.describe(include= np.object)\n",
    "for col in cat_cols :\n",
    "    print(f'{col} : Unique Values')\n",
    "    print(df[col].unique())\n",
    "    print(\"\\n\")"
   ]
  },
  {
   "cell_type": "markdown",
   "metadata": {},
   "source": [
    "Now we found out that all the categorical columns have only 2 levels. Therefore, we will perform one-hot encoding on all the categorical columns."
   ]
  },
  {
   "cell_type": "code",
   "execution_count": 5,
   "metadata": {},
   "outputs": [],
   "source": [
    "df_encod = df.copy()\n",
    "for col in cat_cols:\n",
    "        df_encod[col] = pd.get_dummies(df_encod[col], drop_first=True)"
   ]
  },
  {
   "cell_type": "markdown",
   "metadata": {},
   "source": [
    "After performing one-hot encoding on the data, we get a dataset that is completely numerical. Now we will use **MinMaxScaler()** method within `preprocessing` submodule of `Scikit-Learn`, to scale the descriptive features to be between 0 and 1."
   ]
  },
  {
   "cell_type": "code",
   "execution_count": 6,
   "metadata": {},
   "outputs": [],
   "source": [
    "# scaling descriptive features.\n",
    "from sklearn import preprocessing\n",
    "data_scaler = preprocessing.MinMaxScaler()\n",
    "df_norm = data_scaler.fit_transform(df_encod)"
   ]
  },
  {
   "cell_type": "markdown",
   "metadata": {},
   "source": [
    "After using the MinMaxScaler() to scale the data, we observed that we lost all the column names. Therefore, we will use the `df_encod` to get the column names back and create a data frame named `df_final` ."
   ]
  },
  {
   "cell_type": "code",
   "execution_count": 7,
   "metadata": {},
   "outputs": [],
   "source": [
    "df_final = pd.DataFrame(df_norm, columns=df_encod.columns)"
   ]
  },
  {
   "cell_type": "code",
   "execution_count": 8,
   "metadata": {},
   "outputs": [
    {
     "data": {
      "text/html": [
       "<div>\n",
       "<style scoped>\n",
       "    .dataframe tbody tr th:only-of-type {\n",
       "        vertical-align: middle;\n",
       "    }\n",
       "\n",
       "    .dataframe tbody tr th {\n",
       "        vertical-align: top;\n",
       "    }\n",
       "\n",
       "    .dataframe thead th {\n",
       "        text-align: right;\n",
       "    }\n",
       "</style>\n",
       "<table border=\"1\" class=\"dataframe\">\n",
       "  <thead>\n",
       "    <tr style=\"text-align: right;\">\n",
       "      <th></th>\n",
       "      <th>Age</th>\n",
       "      <th>Gender</th>\n",
       "      <th>Polyuria</th>\n",
       "      <th>Polydipsia</th>\n",
       "      <th>sudden weight loss</th>\n",
       "      <th>weakness</th>\n",
       "      <th>Polyphagia</th>\n",
       "      <th>Genital thrush</th>\n",
       "      <th>visual blurring</th>\n",
       "      <th>Itching</th>\n",
       "      <th>Irritability</th>\n",
       "      <th>delayed healing</th>\n",
       "      <th>partial paresis</th>\n",
       "      <th>muscle stiffness</th>\n",
       "      <th>Alopecia</th>\n",
       "      <th>Obesity</th>\n",
       "      <th>class</th>\n",
       "    </tr>\n",
       "  </thead>\n",
       "  <tbody>\n",
       "    <tr>\n",
       "      <th>0</th>\n",
       "      <td>0.324324</td>\n",
       "      <td>1.0</td>\n",
       "      <td>0.0</td>\n",
       "      <td>1.0</td>\n",
       "      <td>0.0</td>\n",
       "      <td>1.0</td>\n",
       "      <td>0.0</td>\n",
       "      <td>0.0</td>\n",
       "      <td>0.0</td>\n",
       "      <td>1.0</td>\n",
       "      <td>0.0</td>\n",
       "      <td>1.0</td>\n",
       "      <td>0.0</td>\n",
       "      <td>1.0</td>\n",
       "      <td>1.0</td>\n",
       "      <td>1.0</td>\n",
       "      <td>1.0</td>\n",
       "    </tr>\n",
       "    <tr>\n",
       "      <th>1</th>\n",
       "      <td>0.567568</td>\n",
       "      <td>1.0</td>\n",
       "      <td>0.0</td>\n",
       "      <td>0.0</td>\n",
       "      <td>0.0</td>\n",
       "      <td>1.0</td>\n",
       "      <td>0.0</td>\n",
       "      <td>0.0</td>\n",
       "      <td>1.0</td>\n",
       "      <td>0.0</td>\n",
       "      <td>0.0</td>\n",
       "      <td>0.0</td>\n",
       "      <td>1.0</td>\n",
       "      <td>0.0</td>\n",
       "      <td>1.0</td>\n",
       "      <td>0.0</td>\n",
       "      <td>1.0</td>\n",
       "    </tr>\n",
       "    <tr>\n",
       "      <th>2</th>\n",
       "      <td>0.337838</td>\n",
       "      <td>1.0</td>\n",
       "      <td>1.0</td>\n",
       "      <td>0.0</td>\n",
       "      <td>0.0</td>\n",
       "      <td>1.0</td>\n",
       "      <td>1.0</td>\n",
       "      <td>0.0</td>\n",
       "      <td>0.0</td>\n",
       "      <td>1.0</td>\n",
       "      <td>0.0</td>\n",
       "      <td>1.0</td>\n",
       "      <td>0.0</td>\n",
       "      <td>1.0</td>\n",
       "      <td>1.0</td>\n",
       "      <td>0.0</td>\n",
       "      <td>1.0</td>\n",
       "    </tr>\n",
       "    <tr>\n",
       "      <th>3</th>\n",
       "      <td>0.391892</td>\n",
       "      <td>1.0</td>\n",
       "      <td>0.0</td>\n",
       "      <td>0.0</td>\n",
       "      <td>1.0</td>\n",
       "      <td>1.0</td>\n",
       "      <td>1.0</td>\n",
       "      <td>1.0</td>\n",
       "      <td>0.0</td>\n",
       "      <td>1.0</td>\n",
       "      <td>0.0</td>\n",
       "      <td>1.0</td>\n",
       "      <td>0.0</td>\n",
       "      <td>0.0</td>\n",
       "      <td>0.0</td>\n",
       "      <td>0.0</td>\n",
       "      <td>1.0</td>\n",
       "    </tr>\n",
       "    <tr>\n",
       "      <th>4</th>\n",
       "      <td>0.594595</td>\n",
       "      <td>1.0</td>\n",
       "      <td>1.0</td>\n",
       "      <td>1.0</td>\n",
       "      <td>1.0</td>\n",
       "      <td>1.0</td>\n",
       "      <td>1.0</td>\n",
       "      <td>0.0</td>\n",
       "      <td>1.0</td>\n",
       "      <td>1.0</td>\n",
       "      <td>1.0</td>\n",
       "      <td>1.0</td>\n",
       "      <td>1.0</td>\n",
       "      <td>1.0</td>\n",
       "      <td>1.0</td>\n",
       "      <td>1.0</td>\n",
       "      <td>1.0</td>\n",
       "    </tr>\n",
       "  </tbody>\n",
       "</table>\n",
       "</div>"
      ],
      "text/plain": [
       "        Age  Gender  Polyuria  Polydipsia  sudden weight loss  weakness  \\\n",
       "0  0.324324     1.0       0.0         1.0                 0.0       1.0   \n",
       "1  0.567568     1.0       0.0         0.0                 0.0       1.0   \n",
       "2  0.337838     1.0       1.0         0.0                 0.0       1.0   \n",
       "3  0.391892     1.0       0.0         0.0                 1.0       1.0   \n",
       "4  0.594595     1.0       1.0         1.0                 1.0       1.0   \n",
       "\n",
       "   Polyphagia  Genital thrush  visual blurring  Itching  Irritability  \\\n",
       "0         0.0             0.0              0.0      1.0           0.0   \n",
       "1         0.0             0.0              1.0      0.0           0.0   \n",
       "2         1.0             0.0              0.0      1.0           0.0   \n",
       "3         1.0             1.0              0.0      1.0           0.0   \n",
       "4         1.0             0.0              1.0      1.0           1.0   \n",
       "\n",
       "   delayed healing  partial paresis  muscle stiffness  Alopecia  Obesity  \\\n",
       "0              1.0              0.0               1.0       1.0      1.0   \n",
       "1              0.0              1.0               0.0       1.0      0.0   \n",
       "2              1.0              0.0               1.0       1.0      0.0   \n",
       "3              1.0              0.0               0.0       0.0      0.0   \n",
       "4              1.0              1.0               1.0       1.0      1.0   \n",
       "\n",
       "   class  \n",
       "0    1.0  \n",
       "1    1.0  \n",
       "2    1.0  \n",
       "3    1.0  \n",
       "4    1.0  "
      ]
     },
     "execution_count": 8,
     "metadata": {},
     "output_type": "execute_result"
    }
   ],
   "source": [
    "df_final.head(5)"
   ]
  },
  {
   "cell_type": "markdown",
   "metadata": {},
   "source": [
    "Now Preparing the data for statistical modelling.\n",
    "For that, we will partition the data into set of descriptive features and the target feature."
   ]
  },
  {
   "cell_type": "code",
   "execution_count": 9,
   "metadata": {},
   "outputs": [],
   "source": [
    "# The \".values\" part below converts the data frame to a 2-dimensional numpy array\n",
    "Data = df_final.drop(columns = 'class').values\n",
    "target = df_final['class']"
   ]
  },
  {
   "cell_type": "code",
   "execution_count": 10,
   "metadata": {},
   "outputs": [
    {
     "name": "stdout",
     "output_type": "stream",
     "text": [
      "Printing target feature's value counts : \n",
      "1.0    320\n",
      "0.0    200\n",
      "Name: class, dtype: int64\n",
      "Printing orginal data's class feature's value counts : \n",
      "Positive    320\n",
      "Negative    200\n",
      "Name: class, dtype: int64\n"
     ]
    }
   ],
   "source": [
    "print(f\"Printing target feature's value counts : \\n{target.value_counts()}\")\n",
    "print(f\"Printing orginal data's class feature's value counts : \\n{df['class'].value_counts()}\")"
   ]
  },
  {
   "cell_type": "markdown",
   "metadata": {},
   "source": [
    "Therefore, we can verify that the target feature level `0` represents the `negative` diabetic case and level `1` represents `positive` diabetic case."
   ]
  },
  {
   "cell_type": "markdown",
   "metadata": {},
   "source": [
    "# Predictive Modelling"
   ]
  },
  {
   "cell_type": "markdown",
   "metadata": {},
   "source": [
    "## Feature Selection"
   ]
  },
  {
   "cell_type": "markdown",
   "metadata": {},
   "source": [
    "We will use `Random Forest Importance (RFI)` to quickly look for the best features based on their importances. Also, during the hyperparameter tuning phase, we will use `RFI` as a part of pipeline and we will search over 5, 10 and the entire set of 16 descriptive features to determine what number of features works best with each classifier for predicting the target feature."
   ]
  },
  {
   "cell_type": "code",
   "execution_count": 11,
   "metadata": {},
   "outputs": [
    {
     "data": {
      "text/plain": [
       "array(['Polyuria', 'Polydipsia', 'Gender', 'Age', 'sudden weight loss'],\n",
       "      dtype=object)"
      ]
     },
     "execution_count": 11,
     "metadata": {},
     "output_type": "execute_result"
    }
   ],
   "source": [
    "from sklearn.ensemble import RandomForestClassifier\n",
    "\n",
    "num_features = 5\n",
    "model_rfi = RandomForestClassifier(n_estimators=100)\n",
    "model_rfi.fit(Data, target)\n",
    "fs_indices_rfi = np.argsort(model_rfi.feature_importances_)[::-1][0:num_features]\n",
    "\n",
    "best_features_rfi = df_final.columns[fs_indices_rfi].values\n",
    "best_features_rfi"
   ]
  },
  {
   "cell_type": "code",
   "execution_count": 12,
   "metadata": {},
   "outputs": [
    {
     "data": {
      "text/plain": [
       "array([0.24043092, 0.17852317, 0.1000582 , 0.09867349, 0.05334492])"
      ]
     },
     "execution_count": 12,
     "metadata": {},
     "output_type": "execute_result"
    }
   ],
   "source": [
    "feature_importances_rfi = model_rfi.feature_importances_[fs_indices_rfi]\n",
    "feature_importances_rfi"
   ]
  },
  {
   "cell_type": "markdown",
   "metadata": {},
   "source": [
    "Therefore, using RFI, we got the best 5 features from the dataset. We will now use visualization to look at these best features and their importances."
   ]
  },
  {
   "cell_type": "code",
   "execution_count": 13,
   "metadata": {},
   "outputs": [
    {
     "data": {
      "image/png": "[encoded data removed]",
      "text/plain": [
       "<Figure size 432x288 with 1 Axes>"
      ]
     },
     "metadata": {
      "image/png": {
       "height": 281,
       "width": 476
      }
     },
     "output_type": "display_data"
    }
   ],
   "source": [
    "%matplotlib inline \n",
    "%config InlineBackend.figure_format = 'retina'\n",
    "plt.style.use(\"ggplot\")\n",
    "\n",
    "def importance(best_features, scores, method_name):   \n",
    "    plt.barh(best_features, scores)\n",
    "    plt.title(method_name + ' Feature Importances')\n",
    "    plt.xlabel(\"Importance\")\n",
    "    plt.ylabel(\"Best Features\")\n",
    "    plt.show()\n",
    "    \n",
    "importance(best_features_rfi, feature_importances_rfi, 'Random Forest')    "
   ]
  },
  {
   "cell_type": "markdown",
   "metadata": {},
   "source": [
    "We observed that the most important feature is `Polyuria` followed by `Polydipsia` and then `Gender` and `Age`. `sudden weight loss` being the least important among these features."
   ]
  },
  {
   "cell_type": "markdown",
   "metadata": {},
   "source": [
    "## Model Fitting and Tuning"
   ]
  },
  {
   "cell_type": "markdown",
   "metadata": {},
   "source": [
    "### Train-Test Split and Data Sampling"
   ]
  },
  {
   "cell_type": "markdown",
   "metadata": {},
   "source": [
    "Now, for model building and training, we will split the data into training and testing sets by 70:30 ratio where 70% data will be used for training and the remaining 30% will be used for testing and for acheiving that we will use `train_test_split` function from `sklearn`. We will use `stratify` option in `train_test_split` function to the `target` array to ensure the ratio of class proportions remain same as original after the split. "
   ]
  },
  {
   "cell_type": "code",
   "execution_count": 14,
   "metadata": {},
   "outputs": [],
   "source": [
    "from sklearn.model_selection import train_test_split\n",
    "\n",
    "D_train, D_test, t_train, t_test = train_test_split(Data, \n",
    "                                                    target, \n",
    "                                                    test_size = 0.3,\n",
    "                                                    stratify=target,\n",
    "                                                    shuffle=True,\n",
    "                                                    random_state=999)"
   ]
  },
  {
   "cell_type": "markdown",
   "metadata": {},
   "source": [
    "### Model Evaluation Strategy"
   ]
  },
  {
   "cell_type": "markdown",
   "metadata": {},
   "source": [
    "Here we will train and tune our models on the training data and later test the models on the testing data. We will use 5-fold stratified cross-validation method for the hyperparameter tuning."
   ]
  },
  {
   "cell_type": "code",
   "execution_count": 15,
   "metadata": {},
   "outputs": [],
   "source": [
    "from sklearn.neighbors import KNeighborsClassifier\n",
    "from sklearn.model_selection import StratifiedKFold, GridSearchCV\n",
    "\n",
    "cv_method = StratifiedKFold(n_splits=5, \n",
    "                            random_state=999)"
   ]
  },
  {
   "cell_type": "markdown",
   "metadata": {},
   "source": [
    "### Hyperparameter Tuning"
   ]
  },
  {
   "cell_type": "markdown",
   "metadata": {},
   "source": [
    "In this phase, we will use pipeline, using which we will stack feature selection and grid search for hyperparameter tuning for each model via cross-validation."
   ]
  },
  {
   "cell_type": "markdown",
   "metadata": {},
   "source": [
    "### K-Nearest Neighbors (KNN)"
   ]
  },
  {
   "cell_type": "markdown",
   "metadata": {},
   "source": [
    "The KNN hyperparameters are as follows:\n",
    "- number of neighbors `(n_neighbors)`\n",
    "- the distance metric `p`\n",
    "\n",
    "For feature selection, we will use the powerful `Random Forest Importance (RFI)` method with **100 estimators**. We will use custom RFIFeatureSelector() class below which is provided by **featureranking.com** that allows us to pass RFI as a \"step\" of the pipeline. "
   ]
  },
  {
   "cell_type": "code",
   "execution_count": 16,
   "metadata": {},
   "outputs": [],
   "source": [
    "from sklearn.base import BaseEstimator, TransformerMixin\n",
    "\n",
    "class RFIFeatureSelector(BaseEstimator, TransformerMixin):\n",
    "\n",
    "    def __init__(self, n_features_=5):\n",
    "        self.n_features_ = n_features_\n",
    "        self.fs_indices_ = None\n",
    "\n",
    "    def fit(self, X, y):\n",
    "        from sklearn.ensemble import RandomForestClassifier\n",
    "        from numpy import argsort\n",
    "        model_rfi = RandomForestClassifier(n_estimators=100)\n",
    "        model_rfi.fit(X, y)\n",
    "        self.fs_indices_ = argsort(model_rfi.feature_importances_)[::-1][0:self.n_features_] \n",
    "        return self \n",
    "    \n",
    "    def transform(self, X, y=None):\n",
    "        return X[:, self.fs_indices_]"
   ]
  },
  {
   "cell_type": "code",
   "execution_count": 17,
   "metadata": {},
   "outputs": [],
   "source": [
    "from sklearn.pipeline import Pipeline\n",
    "from sklearn.neighbors import KNeighborsClassifier\n",
    "\n",
    "pipe_KNN = Pipeline(steps=[('rfi_fs', RFIFeatureSelector()), \n",
    "                           ('knn', KNeighborsClassifier())])\n",
    "\n",
    "params_pipe_KNN = {'rfi_fs__n_features_': [1, 5, 10, Data.shape[1]],\n",
    "                   'knn__n_neighbors': [1, 5, 10],\n",
    "                   'knn__p': [1, 2]}\n",
    "\n",
    "gs_pipe_KNN = GridSearchCV(estimator=pipe_KNN, \n",
    "                           param_grid=params_pipe_KNN, \n",
    "                           cv=cv_method,\n",
    "                           refit=True,\n",
    "                           n_jobs=-2,\n",
    "                           scoring='roc_auc',\n",
    "                           verbose=1) "
   ]
  },
  {
   "cell_type": "code",
   "execution_count": 18,
   "metadata": {},
   "outputs": [
    {
     "name": "stdout",
     "output_type": "stream",
     "text": [
      "Fitting 5 folds for each of 24 candidates, totalling 120 fits\n"
     ]
    },
    {
     "name": "stderr",
     "output_type": "stream",
     "text": [
      "[Parallel(n_jobs=-2)]: Using backend LokyBackend with 3 concurrent workers.\n",
      "[Parallel(n_jobs=-2)]: Done  44 tasks      | elapsed:   11.2s\n",
      "[Parallel(n_jobs=-2)]: Done 120 out of 120 | elapsed:   20.6s finished\n"
     ]
    }
   ],
   "source": [
    "gs_pipe_KNN.fit(D_train, t_train);"
   ]
  },
  {
   "cell_type": "code",
   "execution_count": 19,
   "metadata": {},
   "outputs": [
    {
     "data": {
      "text/plain": [
       "{'knn__n_neighbors': 1, 'knn__p': 2, 'rfi_fs__n_features_': 10}"
      ]
     },
     "execution_count": 19,
     "metadata": {},
     "output_type": "execute_result"
    }
   ],
   "source": [
    "gs_pipe_KNN.best_params_"
   ]
  },
  {
   "cell_type": "code",
   "execution_count": 20,
   "metadata": {},
   "outputs": [
    {
     "data": {
      "text/plain": [
       "0.983968253968254"
      ]
     },
     "execution_count": 20,
     "metadata": {},
     "output_type": "execute_result"
    }
   ],
   "source": [
    "gs_pipe_KNN.best_score_"
   ]
  },
  {
   "cell_type": "markdown",
   "metadata": {},
   "source": [
    "We observe that the optimal **KNN model** has a mean **AUC** score of **0.984**. The best performing KNN selected 10 features with **1 nearest neighbor** and  **p=2**, which is the **Euclidean** distance.\n",
    "\n",
    "Even though we have found out that these are the best values, let's explore other combinations to determine if the difference is significant or not. \n",
    "\n",
    "For this, we will use the function provided on the `Feature Ranking` website to format the grid search outputs as a Pandas data-frame."
   ]
  },
  {
   "cell_type": "code",
   "execution_count": 21,
   "metadata": {},
   "outputs": [],
   "source": [
    "# custom function to format the search results as a Pandas data frame\n",
    "def get_search_results(gs):\n",
    "\n",
    "    def model_result(scores, params):\n",
    "        scores = {'mean_score': np.mean(scores),\n",
    "             'std_score': np.std(scores),\n",
    "             'min_score': np.min(scores),\n",
    "             'max_score': np.max(scores)}\n",
    "        return pd.Series({**params,**scores})\n",
    "\n",
    "    models = []\n",
    "    scores = []\n",
    "\n",
    "    for i in range(gs.n_splits_):\n",
    "        key = f\"split{i}_test_score\"\n",
    "        r = gs.cv_results_[key]        \n",
    "        scores.append(r.reshape(-1,1))\n",
    "\n",
    "    all_scores = np.hstack(scores)\n",
    "    for p, s in zip(gs.cv_results_['params'], all_scores):\n",
    "        models.append((model_result(s, p)))\n",
    "\n",
    "    pipe_results = pd.concat(models, axis=1).T.sort_values(['mean_score'], ascending=False)\n",
    "\n",
    "    columns_first = ['mean_score', 'std_score', 'max_score', 'min_score']\n",
    "    columns = columns_first + [c for c in pipe_results.columns if c not in columns_first]\n",
    "\n",
    "    return pipe_results[columns]"
   ]
  },
  {
   "cell_type": "code",
   "execution_count": 22,
   "metadata": {
    "scrolled": true
   },
   "outputs": [
    {
     "data": {
      "text/html": [
       "<div>\n",
       "<style scoped>\n",
       "    .dataframe tbody tr th:only-of-type {\n",
       "        vertical-align: middle;\n",
       "    }\n",
       "\n",
       "    .dataframe tbody tr th {\n",
       "        vertical-align: top;\n",
       "    }\n",
       "\n",
       "    .dataframe thead th {\n",
       "        text-align: right;\n",
       "    }\n",
       "</style>\n",
       "<table border=\"1\" class=\"dataframe\">\n",
       "  <thead>\n",
       "    <tr style=\"text-align: right;\">\n",
       "      <th></th>\n",
       "      <th>mean_score</th>\n",
       "      <th>std_score</th>\n",
       "      <th>max_score</th>\n",
       "      <th>min_score</th>\n",
       "      <th>knn__n_neighbors</th>\n",
       "      <th>knn__p</th>\n",
       "      <th>rfi_fs__n_features_</th>\n",
       "    </tr>\n",
       "  </thead>\n",
       "  <tbody>\n",
       "    <tr>\n",
       "      <th>6</th>\n",
       "      <td>0.983968</td>\n",
       "      <td>0.009902</td>\n",
       "      <td>1.000000</td>\n",
       "      <td>0.971032</td>\n",
       "      <td>1.0</td>\n",
       "      <td>2.0</td>\n",
       "      <td>10.0</td>\n",
       "    </tr>\n",
       "    <tr>\n",
       "      <th>14</th>\n",
       "      <td>0.982314</td>\n",
       "      <td>0.011465</td>\n",
       "      <td>0.995238</td>\n",
       "      <td>0.961111</td>\n",
       "      <td>5.0</td>\n",
       "      <td>2.0</td>\n",
       "      <td>10.0</td>\n",
       "    </tr>\n",
       "    <tr>\n",
       "      <th>11</th>\n",
       "      <td>0.980375</td>\n",
       "      <td>0.011606</td>\n",
       "      <td>0.995130</td>\n",
       "      <td>0.963095</td>\n",
       "      <td>5.0</td>\n",
       "      <td>1.0</td>\n",
       "      <td>16.0</td>\n",
       "    </tr>\n",
       "    <tr>\n",
       "      <th>15</th>\n",
       "      <td>0.980294</td>\n",
       "      <td>0.011503</td>\n",
       "      <td>0.994724</td>\n",
       "      <td>0.963095</td>\n",
       "      <td>5.0</td>\n",
       "      <td>2.0</td>\n",
       "      <td>16.0</td>\n",
       "    </tr>\n",
       "    <tr>\n",
       "      <th>22</th>\n",
       "      <td>0.977603</td>\n",
       "      <td>0.005271</td>\n",
       "      <td>0.985714</td>\n",
       "      <td>0.969841</td>\n",
       "      <td>10.0</td>\n",
       "      <td>2.0</td>\n",
       "      <td>10.0</td>\n",
       "    </tr>\n",
       "    <tr>\n",
       "      <th>23</th>\n",
       "      <td>0.976466</td>\n",
       "      <td>0.006066</td>\n",
       "      <td>0.983333</td>\n",
       "      <td>0.967460</td>\n",
       "      <td>10.0</td>\n",
       "      <td>2.0</td>\n",
       "      <td>16.0</td>\n",
       "    </tr>\n",
       "    <tr>\n",
       "      <th>19</th>\n",
       "      <td>0.976466</td>\n",
       "      <td>0.006066</td>\n",
       "      <td>0.983333</td>\n",
       "      <td>0.967460</td>\n",
       "      <td>10.0</td>\n",
       "      <td>1.0</td>\n",
       "      <td>16.0</td>\n",
       "    </tr>\n",
       "    <tr>\n",
       "      <th>10</th>\n",
       "      <td>0.975092</td>\n",
       "      <td>0.025964</td>\n",
       "      <td>0.995238</td>\n",
       "      <td>0.923810</td>\n",
       "      <td>5.0</td>\n",
       "      <td>1.0</td>\n",
       "      <td>10.0</td>\n",
       "    </tr>\n",
       "    <tr>\n",
       "      <th>3</th>\n",
       "      <td>0.974156</td>\n",
       "      <td>0.008411</td>\n",
       "      <td>0.988889</td>\n",
       "      <td>0.966667</td>\n",
       "      <td>1.0</td>\n",
       "      <td>1.0</td>\n",
       "      <td>16.0</td>\n",
       "    </tr>\n",
       "    <tr>\n",
       "      <th>7</th>\n",
       "      <td>0.974156</td>\n",
       "      <td>0.008411</td>\n",
       "      <td>0.988889</td>\n",
       "      <td>0.966667</td>\n",
       "      <td>1.0</td>\n",
       "      <td>2.0</td>\n",
       "      <td>16.0</td>\n",
       "    </tr>\n",
       "  </tbody>\n",
       "</table>\n",
       "</div>"
      ],
      "text/plain": [
       "    mean_score  std_score  max_score  min_score  knn__n_neighbors  knn__p  \\\n",
       "6     0.983968   0.009902   1.000000   0.971032               1.0     2.0   \n",
       "14    0.982314   0.011465   0.995238   0.961111               5.0     2.0   \n",
       "11    0.980375   0.011606   0.995130   0.963095               5.0     1.0   \n",
       "15    0.980294   0.011503   0.994724   0.963095               5.0     2.0   \n",
       "22    0.977603   0.005271   0.985714   0.969841              10.0     2.0   \n",
       "23    0.976466   0.006066   0.983333   0.967460              10.0     2.0   \n",
       "19    0.976466   0.006066   0.983333   0.967460              10.0     1.0   \n",
       "10    0.975092   0.025964   0.995238   0.923810               5.0     1.0   \n",
       "3     0.974156   0.008411   0.988889   0.966667               1.0     1.0   \n",
       "7     0.974156   0.008411   0.988889   0.966667               1.0     2.0   \n",
       "\n",
       "    rfi_fs__n_features_  \n",
       "6                  10.0  \n",
       "14                 10.0  \n",
       "11                 16.0  \n",
       "15                 16.0  \n",
       "22                 10.0  \n",
       "23                 16.0  \n",
       "19                 16.0  \n",
       "10                 10.0  \n",
       "3                  16.0  \n",
       "7                  16.0  "
      ]
     },
     "execution_count": 22,
     "metadata": {},
     "output_type": "execute_result"
    }
   ],
   "source": [
    "results_KNN = get_search_results(gs_pipe_KNN)\n",
    "results_KNN.head(10)"
   ]
  },
  {
   "cell_type": "markdown",
   "metadata": {},
   "source": [
    "From the above data frame, we observe that the difference between the other hyperparameter combinations is not much significant as compared to the number of feature selected. \n",
    "\n",
    "Let us now visualize the results of the grid search corresponding to 10 selected best features."
   ]
  },
  {
   "cell_type": "code",
   "execution_count": 23,
   "metadata": {},
   "outputs": [
    {
     "data": {
      "image/png": "[encoded data removed]",
      "text/plain": [
       "<Figure size 432x288 with 1 Axes>"
      ]
     },
     "metadata": {
      "image/png": {
       "height": 281,
       "width": 404
      }
     },
     "output_type": "display_data"
    }
   ],
   "source": [
    "results_KNN_10_features = results_KNN[results_KNN['rfi_fs__n_features_'] == 10.0]\n",
    "\n",
    "for i in results_KNN_10_features['knn__p'].unique():\n",
    "    temp = results_KNN_10_features[results_KNN_10_features['knn__p'] == i]\n",
    "    plt.plot(temp['knn__n_neighbors'], temp['mean_score'], marker = '.', label = i)\n",
    "    \n",
    "plt.legend(title = \"p\")\n",
    "plt.xlabel('Number of Neighbors')\n",
    "plt.ylabel(\"AUC Score\")\n",
    "plt.title(\"KNN Performance Comparison with 10 Features\")\n",
    "plt.show()"
   ]
  },
  {
   "cell_type": "markdown",
   "metadata": {},
   "source": [
    "### Decision Tree Hyperparameter Tuning and Visualization"
   ]
  },
  {
   "cell_type": "markdown",
   "metadata": {},
   "source": [
    "Now, we will build a Decision Tree Classifier using `gini` index to maximize the information gain. Our aim is to obtain the optimal combinations of **maximum depth (max_depth)** and **minimum sample split (min_samples_split)**."
   ]
  },
  {
   "cell_type": "code",
   "execution_count": 24,
   "metadata": {},
   "outputs": [
    {
     "name": "stdout",
     "output_type": "stream",
     "text": [
      "Fitting 5 folds for each of 36 candidates, totalling 180 fits\n"
     ]
    },
    {
     "name": "stderr",
     "output_type": "stream",
     "text": [
      "[Parallel(n_jobs=-2)]: Using backend LokyBackend with 3 concurrent workers.\n",
      "[Parallel(n_jobs=-2)]: Done  44 tasks      | elapsed:    4.3s\n",
      "[Parallel(n_jobs=-2)]: Done 180 out of 180 | elapsed:   22.9s finished\n"
     ]
    }
   ],
   "source": [
    "from sklearn.tree import DecisionTreeClassifier\n",
    "\n",
    "pipe_DT = Pipeline([('rfi_fs', RFIFeatureSelector()),\n",
    "                    ('dt', DecisionTreeClassifier(criterion='gini', random_state=999))])\n",
    "\n",
    "params_pipe_DT = {'rfi_fs__n_features_': [5, 10, Data.shape[1]],\n",
    "                  'dt__max_depth': [2, 3, 4, 5],\n",
    "                  'dt__min_samples_split': [1, 2, 5]}\n",
    "\n",
    "gs_pipe_DT = GridSearchCV(estimator=pipe_DT, \n",
    "                          param_grid=params_pipe_DT, \n",
    "                          cv=cv_method,\n",
    "                          refit=True,\n",
    "                          n_jobs=-2,\n",
    "                          scoring='roc_auc',\n",
    "                          verbose=1) \n",
    "\n",
    "gs_pipe_DT.fit(D_train, t_train);"
   ]
  },
  {
   "cell_type": "code",
   "execution_count": 25,
   "metadata": {},
   "outputs": [
    {
     "data": {
      "text/plain": [
       "{'dt__max_depth': 4, 'dt__min_samples_split': 2, 'rfi_fs__n_features_': 10}"
      ]
     },
     "execution_count": 25,
     "metadata": {},
     "output_type": "execute_result"
    }
   ],
   "source": [
    "gs_pipe_DT.best_params_"
   ]
  },
  {
   "cell_type": "code",
   "execution_count": 26,
   "metadata": {},
   "outputs": [
    {
     "data": {
      "text/plain": [
       "0.9655212842712843"
      ]
     },
     "execution_count": 26,
     "metadata": {},
     "output_type": "execute_result"
    }
   ],
   "source": [
    "gs_pipe_DT.best_score_"
   ]
  },
  {
   "cell_type": "markdown",
   "metadata": {},
   "source": [
    "The best Decision Tree classifier has a **maximum depth of 4** and **minimum split value of 5** samples with an **AUC** score of **0.963**. A visualization of the search results is given below for 10 features."
   ]
  },
  {
   "cell_type": "code",
   "execution_count": 27,
   "metadata": {},
   "outputs": [
    {
     "data": {
      "image/png": "[encoded data removed]",
      "text/plain": [
       "<Figure size 432x288 with 1 Axes>"
      ]
     },
     "metadata": {
      "image/png": {
       "height": 281,
       "width": 394
      }
     },
     "output_type": "display_data"
    }
   ],
   "source": [
    "results_DT = get_search_results(gs_pipe_DT)\n",
    "results_DT_10_features = results_DT[results_DT['rfi_fs__n_features_'] == 10.0]\n",
    "\n",
    "\n",
    "for i in results_DT_10_features['dt__max_depth'].unique():\n",
    "    temp = results_DT_10_features[results_DT_10_features['dt__max_depth'] == i]\n",
    "    plt.plot(temp['dt__min_samples_split'], temp['mean_score'], marker = '.', label = i)\n",
    "    \n",
    "plt.legend(title = \"Max Depth\")\n",
    "plt.xlabel('Min Samples for Split')\n",
    "plt.ylabel(\"AUC Score\")\n",
    "plt.title(\"DT Performance Comparison with 10 Features\")\n",
    "plt.show()"
   ]
  },
  {
   "cell_type": "markdown",
   "metadata": {},
   "source": [
    "#### Further Fine Tuning\n",
    "We observed that the optimal value of maximum depth is at the extreme end of its search space. Therefore, we will try to go beyond what values we have supplied already to make ensure that we are not missing out on even better values. For that, we try with a new search."
   ]
  },
  {
   "cell_type": "code",
   "execution_count": 60,
   "metadata": {},
   "outputs": [
    {
     "name": "stdout",
     "output_type": "stream",
     "text": [
      "Fitting 5 folds for each of 12 candidates, totalling 60 fits\n"
     ]
    },
    {
     "name": "stderr",
     "output_type": "stream",
     "text": [
      "[Parallel(n_jobs=-2)]: Using backend LokyBackend with 3 concurrent workers.\n",
      "[Parallel(n_jobs=-2)]: Done  44 tasks      | elapsed:    5.0s\n",
      "[Parallel(n_jobs=-2)]: Done  60 out of  60 | elapsed:    6.4s finished\n"
     ]
    }
   ],
   "source": [
    "params_pipe_DT2 = {'rfi_fs__n_features_': [10],\n",
    "                  'dt__max_depth': [5, 10, 15],\n",
    "                  'dt__min_samples_split': [7, 10, 12, 15]}\n",
    "\n",
    "gs_pipe_DT2 = GridSearchCV(estimator=pipe_DT, \n",
    "                          param_grid=params_pipe_DT2, \n",
    "                          cv=cv_method,\n",
    "                          refit=True,\n",
    "                          n_jobs=-2,\n",
    "                          scoring='roc_auc',\n",
    "                          verbose=1) \n",
    "\n",
    "gs_pipe_DT2.fit(D_train, t_train);"
   ]
  },
  {
   "cell_type": "code",
   "execution_count": 61,
   "metadata": {},
   "outputs": [
    {
     "data": {
      "text/plain": [
       "{'dt__max_depth': 15, 'dt__min_samples_split': 7, 'rfi_fs__n_features_': 10}"
      ]
     },
     "execution_count": 61,
     "metadata": {},
     "output_type": "execute_result"
    }
   ],
   "source": [
    "gs_pipe_DT2.best_params_"
   ]
  },
  {
   "cell_type": "code",
   "execution_count": 62,
   "metadata": {},
   "outputs": [
    {
     "data": {
      "text/plain": [
       "0.9657088744588747"
      ]
     },
     "execution_count": 62,
     "metadata": {},
     "output_type": "execute_result"
    }
   ],
   "source": [
    "gs_pipe_DT2.best_score_"
   ]
  },
  {
   "cell_type": "markdown",
   "metadata": {},
   "source": [
    "After futher tuning of the Decision Tree model, we observed that the AUC score was slighly improved. Therefore, we will proceed forward with the tuned DT2 model."
   ]
  },
  {
   "cell_type": "code",
   "execution_count": 63,
   "metadata": {},
   "outputs": [
    {
     "data": {
      "text/html": [
       "<div>\n",
       "<style scoped>\n",
       "    .dataframe tbody tr th:only-of-type {\n",
       "        vertical-align: middle;\n",
       "    }\n",
       "\n",
       "    .dataframe tbody tr th {\n",
       "        vertical-align: top;\n",
       "    }\n",
       "\n",
       "    .dataframe thead th {\n",
       "        text-align: right;\n",
       "    }\n",
       "</style>\n",
       "<table border=\"1\" class=\"dataframe\">\n",
       "  <thead>\n",
       "    <tr style=\"text-align: right;\">\n",
       "      <th></th>\n",
       "      <th>mean_score</th>\n",
       "      <th>std_score</th>\n",
       "      <th>max_score</th>\n",
       "      <th>min_score</th>\n",
       "      <th>dt__max_depth</th>\n",
       "      <th>dt__min_samples_split</th>\n",
       "      <th>rfi_fs__n_features_</th>\n",
       "    </tr>\n",
       "  </thead>\n",
       "  <tbody>\n",
       "    <tr>\n",
       "      <th>8</th>\n",
       "      <td>0.965709</td>\n",
       "      <td>0.025503</td>\n",
       "      <td>0.989683</td>\n",
       "      <td>0.923413</td>\n",
       "      <td>15.0</td>\n",
       "      <td>7.0</td>\n",
       "      <td>10.0</td>\n",
       "    </tr>\n",
       "    <tr>\n",
       "      <th>4</th>\n",
       "      <td>0.960287</td>\n",
       "      <td>0.024667</td>\n",
       "      <td>0.989683</td>\n",
       "      <td>0.923413</td>\n",
       "      <td>10.0</td>\n",
       "      <td>7.0</td>\n",
       "      <td>10.0</td>\n",
       "    </tr>\n",
       "    <tr>\n",
       "      <th>7</th>\n",
       "      <td>0.957933</td>\n",
       "      <td>0.026763</td>\n",
       "      <td>0.981331</td>\n",
       "      <td>0.914683</td>\n",
       "      <td>10.0</td>\n",
       "      <td>15.0</td>\n",
       "      <td>10.0</td>\n",
       "    </tr>\n",
       "    <tr>\n",
       "      <th>5</th>\n",
       "      <td>0.955101</td>\n",
       "      <td>0.021934</td>\n",
       "      <td>0.981746</td>\n",
       "      <td>0.916270</td>\n",
       "      <td>10.0</td>\n",
       "      <td>10.0</td>\n",
       "      <td>10.0</td>\n",
       "    </tr>\n",
       "    <tr>\n",
       "      <th>11</th>\n",
       "      <td>0.953126</td>\n",
       "      <td>0.024500</td>\n",
       "      <td>0.981746</td>\n",
       "      <td>0.915476</td>\n",
       "      <td>15.0</td>\n",
       "      <td>15.0</td>\n",
       "      <td>10.0</td>\n",
       "    </tr>\n",
       "  </tbody>\n",
       "</table>\n",
       "</div>"
      ],
      "text/plain": [
       "    mean_score  std_score  max_score  min_score  dt__max_depth  \\\n",
       "8     0.965709   0.025503   0.989683   0.923413           15.0   \n",
       "4     0.960287   0.024667   0.989683   0.923413           10.0   \n",
       "7     0.957933   0.026763   0.981331   0.914683           10.0   \n",
       "5     0.955101   0.021934   0.981746   0.916270           10.0   \n",
       "11    0.953126   0.024500   0.981746   0.915476           15.0   \n",
       "\n",
       "    dt__min_samples_split  rfi_fs__n_features_  \n",
       "8                     7.0                 10.0  \n",
       "4                     7.0                 10.0  \n",
       "7                    15.0                 10.0  \n",
       "5                    10.0                 10.0  \n",
       "11                   15.0                 10.0  "
      ]
     },
     "execution_count": 63,
     "metadata": {},
     "output_type": "execute_result"
    }
   ],
   "source": [
    "results_DT = get_search_results(gs_pipe_DT2)\n",
    "results_DT.head()"
   ]
  },
  {
   "cell_type": "code",
   "execution_count": 64,
   "metadata": {},
   "outputs": [
    {
     "data": {
      "image/png": "[encoded data removed]",
      "text/plain": [
       "<Figure size 432x288 with 1 Axes>"
      ]
     },
     "metadata": {
      "image/png": {
       "height": 281,
       "width": 440
      }
     },
     "output_type": "display_data"
    }
   ],
   "source": [
    "results_DT2 = get_search_results(gs_pipe_DT2)\n",
    "results_DT_10_features = results_DT2[results_DT2['rfi_fs__n_features_'] == 10.0].sort_values('dt__min_samples_split')\n",
    "\n",
    "\n",
    "for i in results_DT_10_features['dt__max_depth'].unique():\n",
    "    temp = results_DT_10_features[results_DT_10_features['dt__max_depth'] == i]\n",
    "    plt.plot(temp['dt__min_samples_split'], temp['mean_score'], marker = '.', label = i)\n",
    "    \n",
    "plt.legend(title = \"Max Depth\")\n",
    "plt.xlabel('Min Samples for Split')\n",
    "plt.ylabel(\"AUC Score\")\n",
    "plt.title(\"DT Performance Comparison with 10 Features - Extended\")\n",
    "plt.show()"
   ]
  },
  {
   "cell_type": "markdown",
   "metadata": {},
   "source": [
    "### (Gaussian) Naive Bayes (NB) Hyperparameter Tuning and Visualization"
   ]
  },
  {
   "cell_type": "markdown",
   "metadata": {},
   "source": [
    "Now, we will implement a Gaussian Naive Bayes model. We will conduct the grid search in the **logspace** (over the powers of 10) sourced from `NumPy`. We will start with $10^1$ and end with  $10^−3$ with 100 different values, however, to reduce the run time, we will perform a random search over only 20 different values. NB requires each descriptive feature to follow a Gaussian distribution, therefore, we will first perform a **power transformation** on the input data before model fitting."
   ]
  },
  {
   "cell_type": "code",
   "execution_count": 33,
   "metadata": {},
   "outputs": [],
   "source": [
    "from sklearn.preprocessing import PowerTransformer\n",
    "D_train_transformed = PowerTransformer().fit_transform(D_train)"
   ]
  },
  {
   "cell_type": "code",
   "execution_count": 65,
   "metadata": {},
   "outputs": [
    {
     "name": "stdout",
     "output_type": "stream",
     "text": [
      "Fitting 5 folds for each of 20 candidates, totalling 100 fits\n"
     ]
    },
    {
     "name": "stderr",
     "output_type": "stream",
     "text": [
      "[Parallel(n_jobs=-2)]: Using backend LokyBackend with 3 concurrent workers.\n",
      "[Parallel(n_jobs=-2)]: Done  44 tasks      | elapsed:    9.8s\n",
      "[Parallel(n_jobs=-2)]: Done 100 out of 100 | elapsed:   15.1s finished\n"
     ]
    }
   ],
   "source": [
    "from sklearn.naive_bayes import GaussianNB\n",
    "from sklearn.model_selection import RandomizedSearchCV\n",
    "\n",
    "pipe_NB = Pipeline([('rfi_fs', RFIFeatureSelector()), \n",
    "                     ('nb', GaussianNB())])\n",
    "\n",
    "params_pipe_NB = {'rfi_fs__n_features_': [5, 10, Data.shape[1]],\n",
    "                  'nb__var_smoothing': np.logspace(1,-3, num=100)}\n",
    "\n",
    "n_iter_search = 20\n",
    "gs_pipe_NB = RandomizedSearchCV(estimator=pipe_NB, \n",
    "                          param_distributions=params_pipe_NB, \n",
    "                          cv=cv_method,\n",
    "                          refit=True,\n",
    "                          n_jobs=-2,\n",
    "                          scoring='roc_auc',\n",
    "                          n_iter=n_iter_search,\n",
    "                          verbose=1) \n",
    "\n",
    "gs_pipe_NB.fit(D_train_transformed, t_train);"
   ]
  },
  {
   "cell_type": "code",
   "execution_count": 66,
   "metadata": {},
   "outputs": [
    {
     "data": {
      "text/plain": [
       "{'rfi_fs__n_features_': 10, 'nb__var_smoothing': 0.010235310218990257}"
      ]
     },
     "execution_count": 66,
     "metadata": {},
     "output_type": "execute_result"
    }
   ],
   "source": [
    "gs_pipe_NB.best_params_"
   ]
  },
  {
   "cell_type": "code",
   "execution_count": 67,
   "metadata": {},
   "outputs": [
    {
     "data": {
      "text/plain": [
       "0.9555699855699855"
      ]
     },
     "execution_count": 67,
     "metadata": {},
     "output_type": "execute_result"
    }
   ],
   "source": [
    "gs_pipe_NB.best_score_"
   ]
  },
  {
   "cell_type": "markdown",
   "metadata": {},
   "source": [
    "The NB model gave an **AUC** score of **0.955** (with 10 features) which is the lowest among the two above models(KNN and DT). However, at this point, we cannot conclude NB is the worst performer unless we perform the paired t-test on the test data."
   ]
  },
  {
   "cell_type": "code",
   "execution_count": 70,
   "metadata": {
    "scrolled": true
   },
   "outputs": [
    {
     "data": {
      "text/html": [
       "<div>\n",
       "<style scoped>\n",
       "    .dataframe tbody tr th:only-of-type {\n",
       "        vertical-align: middle;\n",
       "    }\n",
       "\n",
       "    .dataframe tbody tr th {\n",
       "        vertical-align: top;\n",
       "    }\n",
       "\n",
       "    .dataframe thead th {\n",
       "        text-align: right;\n",
       "    }\n",
       "</style>\n",
       "<table border=\"1\" class=\"dataframe\">\n",
       "  <thead>\n",
       "    <tr style=\"text-align: right;\">\n",
       "      <th></th>\n",
       "      <th>mean_score</th>\n",
       "      <th>std_score</th>\n",
       "      <th>max_score</th>\n",
       "      <th>min_score</th>\n",
       "      <th>rfi_fs__n_features_</th>\n",
       "      <th>nb__var_smoothing</th>\n",
       "    </tr>\n",
       "  </thead>\n",
       "  <tbody>\n",
       "    <tr>\n",
       "      <th>2</th>\n",
       "      <td>0.955570</td>\n",
       "      <td>0.012061</td>\n",
       "      <td>0.967532</td>\n",
       "      <td>0.938889</td>\n",
       "      <td>10.0</td>\n",
       "      <td>0.010235</td>\n",
       "    </tr>\n",
       "    <tr>\n",
       "      <th>19</th>\n",
       "      <td>0.954585</td>\n",
       "      <td>0.010958</td>\n",
       "      <td>0.967460</td>\n",
       "      <td>0.938889</td>\n",
       "      <td>10.0</td>\n",
       "      <td>0.002783</td>\n",
       "    </tr>\n",
       "    <tr>\n",
       "      <th>12</th>\n",
       "      <td>0.953157</td>\n",
       "      <td>0.011566</td>\n",
       "      <td>0.966667</td>\n",
       "      <td>0.938889</td>\n",
       "      <td>10.0</td>\n",
       "      <td>0.009326</td>\n",
       "    </tr>\n",
       "    <tr>\n",
       "      <th>16</th>\n",
       "      <td>0.952980</td>\n",
       "      <td>0.008376</td>\n",
       "      <td>0.963492</td>\n",
       "      <td>0.939683</td>\n",
       "      <td>10.0</td>\n",
       "      <td>2.257020</td>\n",
       "    </tr>\n",
       "    <tr>\n",
       "      <th>0</th>\n",
       "      <td>0.952657</td>\n",
       "      <td>0.018470</td>\n",
       "      <td>0.972808</td>\n",
       "      <td>0.923810</td>\n",
       "      <td>10.0</td>\n",
       "      <td>0.002535</td>\n",
       "    </tr>\n",
       "    <tr>\n",
       "      <th>1</th>\n",
       "      <td>0.952567</td>\n",
       "      <td>0.021865</td>\n",
       "      <td>0.972222</td>\n",
       "      <td>0.922222</td>\n",
       "      <td>5.0</td>\n",
       "      <td>0.012328</td>\n",
       "    </tr>\n",
       "    <tr>\n",
       "      <th>9</th>\n",
       "      <td>0.952031</td>\n",
       "      <td>0.010068</td>\n",
       "      <td>0.962698</td>\n",
       "      <td>0.934127</td>\n",
       "      <td>16.0</td>\n",
       "      <td>0.007743</td>\n",
       "    </tr>\n",
       "    <tr>\n",
       "      <th>4</th>\n",
       "      <td>0.952031</td>\n",
       "      <td>0.010068</td>\n",
       "      <td>0.962698</td>\n",
       "      <td>0.934127</td>\n",
       "      <td>16.0</td>\n",
       "      <td>0.004863</td>\n",
       "    </tr>\n",
       "    <tr>\n",
       "      <th>3</th>\n",
       "      <td>0.952031</td>\n",
       "      <td>0.010068</td>\n",
       "      <td>0.962698</td>\n",
       "      <td>0.934127</td>\n",
       "      <td>16.0</td>\n",
       "      <td>0.013530</td>\n",
       "    </tr>\n",
       "    <tr>\n",
       "      <th>17</th>\n",
       "      <td>0.952031</td>\n",
       "      <td>0.010068</td>\n",
       "      <td>0.962698</td>\n",
       "      <td>0.934127</td>\n",
       "      <td>16.0</td>\n",
       "      <td>0.003352</td>\n",
       "    </tr>\n",
       "  </tbody>\n",
       "</table>\n",
       "</div>"
      ],
      "text/plain": [
       "    mean_score  std_score  max_score  min_score  rfi_fs__n_features_  \\\n",
       "2     0.955570   0.012061   0.967532   0.938889                 10.0   \n",
       "19    0.954585   0.010958   0.967460   0.938889                 10.0   \n",
       "12    0.953157   0.011566   0.966667   0.938889                 10.0   \n",
       "16    0.952980   0.008376   0.963492   0.939683                 10.0   \n",
       "0     0.952657   0.018470   0.972808   0.923810                 10.0   \n",
       "1     0.952567   0.021865   0.972222   0.922222                  5.0   \n",
       "9     0.952031   0.010068   0.962698   0.934127                 16.0   \n",
       "4     0.952031   0.010068   0.962698   0.934127                 16.0   \n",
       "3     0.952031   0.010068   0.962698   0.934127                 16.0   \n",
       "17    0.952031   0.010068   0.962698   0.934127                 16.0   \n",
       "\n",
       "    nb__var_smoothing  \n",
       "2            0.010235  \n",
       "19           0.002783  \n",
       "12           0.009326  \n",
       "16           2.257020  \n",
       "0            0.002535  \n",
       "1            0.012328  \n",
       "9            0.007743  \n",
       "4            0.004863  \n",
       "3            0.013530  \n",
       "17           0.003352  "
      ]
     },
     "execution_count": 70,
     "metadata": {},
     "output_type": "execute_result"
    }
   ],
   "source": [
    "results_NB = get_search_results(gs_pipe_NB)\n",
    "results_NB.head(10)"
   ]
  },
  {
   "cell_type": "code",
   "execution_count": 69,
   "metadata": {},
   "outputs": [
    {
     "data": {
      "image/png": "[encoded data removed]",
      "text/plain": [
       "<Figure size 432x288 with 1 Axes>"
      ]
     },
     "metadata": {
      "image/png": {
       "height": 281,
       "width": 409
      }
     },
     "output_type": "display_data"
    }
   ],
   "source": [
    "results_NB_10_features = results_NB[results_NB['rfi_fs__n_features_'] == 10.0].sort_values('nb__var_smoothing')\n",
    "\n",
    "plt.plot(results_NB_10_features['nb__var_smoothing'], results_NB_10_features['mean_score'], marker = '.', label = i)    \n",
    "plt.xlabel('Var. Smoothing')\n",
    "plt.ylabel(\"AUC Score\")\n",
    "plt.title(\"NB Performance Comparison with 10 Features\")\n",
    "plt.show()"
   ]
  },
  {
   "cell_type": "markdown",
   "metadata": {},
   "source": [
    "### Random Forest Classification Hyperparameter Tuning and Visualization"
   ]
  },
  {
   "cell_type": "code",
   "execution_count": 71,
   "metadata": {},
   "outputs": [
    {
     "name": "stdout",
     "output_type": "stream",
     "text": [
      "Fitting 5 folds for each of 18 candidates, totalling 90 fits\n"
     ]
    },
    {
     "name": "stderr",
     "output_type": "stream",
     "text": [
      "[Parallel(n_jobs=-2)]: Using backend LokyBackend with 3 concurrent workers.\n",
      "[Parallel(n_jobs=-2)]: Done  44 tasks      | elapsed:   14.2s\n",
      "[Parallel(n_jobs=-2)]: Done  90 out of  90 | elapsed:   23.0s finished\n"
     ]
    }
   ],
   "source": [
    "from sklearn.ensemble import RandomForestClassifier\n",
    "\n",
    "pipe_RF = Pipeline([('rfi_fs', RFIFeatureSelector()),\n",
    "                    ('rf', RandomForestClassifier(n_estimators= 100, criterion='gini', random_state=999))])\n",
    "\n",
    "params_pipe_RF = {'rfi_fs__n_features_': [5, 10, Data.shape[1]],\n",
    "                  'rf__max_depth': [9, 10, 11],\n",
    "                  'rf__min_samples_split': [2,3]\n",
    "                 \n",
    "                 }\n",
    "\n",
    "gs_pipe_RF = GridSearchCV(estimator=pipe_RF, \n",
    "                          param_grid=params_pipe_RF, \n",
    "                          cv=cv_method,\n",
    "                          refit=True,\n",
    "                          n_jobs=-2,\n",
    "                          scoring='roc_auc',\n",
    "                          verbose=1) \n",
    "\n",
    "gs_pipe_RF.fit(D_train, t_train);"
   ]
  },
  {
   "cell_type": "code",
   "execution_count": 72,
   "metadata": {},
   "outputs": [
    {
     "data": {
      "text/plain": [
       "{'rf__max_depth': 11, 'rf__min_samples_split': 3, 'rfi_fs__n_features_': 16}"
      ]
     },
     "execution_count": 72,
     "metadata": {},
     "output_type": "execute_result"
    }
   ],
   "source": [
    "gs_pipe_RF.best_params_"
   ]
  },
  {
   "cell_type": "code",
   "execution_count": 73,
   "metadata": {},
   "outputs": [
    {
     "data": {
      "text/plain": [
       "0.9982467532467533"
      ]
     },
     "execution_count": 73,
     "metadata": {},
     "output_type": "execute_result"
    }
   ],
   "source": [
    "gs_pipe_RF.best_score_"
   ]
  },
  {
   "cell_type": "markdown",
   "metadata": {},
   "source": [
    "We observed an impressive AUC score by the RF model with `rf__max_depth`= **11**, `rf__min_samples_split`= **3** and `rfi_fs__n_features_`= **16**. But it uses the entire set of features for the prediction. Therefore, we will look at the result table to check for an alternate set of hyperparameters."
   ]
  },
  {
   "cell_type": "code",
   "execution_count": 74,
   "metadata": {
    "scrolled": true
   },
   "outputs": [
    {
     "data": {
      "text/html": [
       "<div>\n",
       "<style scoped>\n",
       "    .dataframe tbody tr th:only-of-type {\n",
       "        vertical-align: middle;\n",
       "    }\n",
       "\n",
       "    .dataframe tbody tr th {\n",
       "        vertical-align: top;\n",
       "    }\n",
       "\n",
       "    .dataframe thead th {\n",
       "        text-align: right;\n",
       "    }\n",
       "</style>\n",
       "<table border=\"1\" class=\"dataframe\">\n",
       "  <thead>\n",
       "    <tr style=\"text-align: right;\">\n",
       "      <th></th>\n",
       "      <th>mean_score</th>\n",
       "      <th>std_score</th>\n",
       "      <th>max_score</th>\n",
       "      <th>min_score</th>\n",
       "      <th>rf__max_depth</th>\n",
       "      <th>rf__min_samples_split</th>\n",
       "      <th>rfi_fs__n_features_</th>\n",
       "    </tr>\n",
       "  </thead>\n",
       "  <tbody>\n",
       "    <tr>\n",
       "      <th>17</th>\n",
       "      <td>0.998247</td>\n",
       "      <td>0.001618</td>\n",
       "      <td>1.0</td>\n",
       "      <td>0.995238</td>\n",
       "      <td>11.0</td>\n",
       "      <td>3.0</td>\n",
       "      <td>16.0</td>\n",
       "    </tr>\n",
       "    <tr>\n",
       "      <th>11</th>\n",
       "      <td>0.998240</td>\n",
       "      <td>0.001916</td>\n",
       "      <td>1.0</td>\n",
       "      <td>0.995238</td>\n",
       "      <td>10.0</td>\n",
       "      <td>3.0</td>\n",
       "      <td>16.0</td>\n",
       "    </tr>\n",
       "    <tr>\n",
       "      <th>2</th>\n",
       "      <td>0.998081</td>\n",
       "      <td>0.001861</td>\n",
       "      <td>1.0</td>\n",
       "      <td>0.995238</td>\n",
       "      <td>9.0</td>\n",
       "      <td>2.0</td>\n",
       "      <td>16.0</td>\n",
       "    </tr>\n",
       "    <tr>\n",
       "      <th>16</th>\n",
       "      <td>0.997771</td>\n",
       "      <td>0.001835</td>\n",
       "      <td>1.0</td>\n",
       "      <td>0.995238</td>\n",
       "      <td>11.0</td>\n",
       "      <td>3.0</td>\n",
       "      <td>10.0</td>\n",
       "    </tr>\n",
       "    <tr>\n",
       "      <th>8</th>\n",
       "      <td>0.997767</td>\n",
       "      <td>0.002628</td>\n",
       "      <td>1.0</td>\n",
       "      <td>0.992857</td>\n",
       "      <td>10.0</td>\n",
       "      <td>2.0</td>\n",
       "      <td>16.0</td>\n",
       "    </tr>\n",
       "    <tr>\n",
       "      <th>14</th>\n",
       "      <td>0.997763</td>\n",
       "      <td>0.001627</td>\n",
       "      <td>1.0</td>\n",
       "      <td>0.995238</td>\n",
       "      <td>11.0</td>\n",
       "      <td>2.0</td>\n",
       "      <td>16.0</td>\n",
       "    </tr>\n",
       "    <tr>\n",
       "      <th>1</th>\n",
       "      <td>0.997136</td>\n",
       "      <td>0.002863</td>\n",
       "      <td>1.0</td>\n",
       "      <td>0.992063</td>\n",
       "      <td>9.0</td>\n",
       "      <td>2.0</td>\n",
       "      <td>10.0</td>\n",
       "    </tr>\n",
       "    <tr>\n",
       "      <th>10</th>\n",
       "      <td>0.996649</td>\n",
       "      <td>0.002272</td>\n",
       "      <td>1.0</td>\n",
       "      <td>0.993651</td>\n",
       "      <td>10.0</td>\n",
       "      <td>3.0</td>\n",
       "      <td>10.0</td>\n",
       "    </tr>\n",
       "    <tr>\n",
       "      <th>5</th>\n",
       "      <td>0.996335</td>\n",
       "      <td>0.004643</td>\n",
       "      <td>1.0</td>\n",
       "      <td>0.987302</td>\n",
       "      <td>9.0</td>\n",
       "      <td>3.0</td>\n",
       "      <td>16.0</td>\n",
       "    </tr>\n",
       "    <tr>\n",
       "      <th>7</th>\n",
       "      <td>0.993571</td>\n",
       "      <td>0.010233</td>\n",
       "      <td>1.0</td>\n",
       "      <td>0.973413</td>\n",
       "      <td>10.0</td>\n",
       "      <td>2.0</td>\n",
       "      <td>10.0</td>\n",
       "    </tr>\n",
       "  </tbody>\n",
       "</table>\n",
       "</div>"
      ],
      "text/plain": [
       "    mean_score  std_score  max_score  min_score  rf__max_depth  \\\n",
       "17    0.998247   0.001618        1.0   0.995238           11.0   \n",
       "11    0.998240   0.001916        1.0   0.995238           10.0   \n",
       "2     0.998081   0.001861        1.0   0.995238            9.0   \n",
       "16    0.997771   0.001835        1.0   0.995238           11.0   \n",
       "8     0.997767   0.002628        1.0   0.992857           10.0   \n",
       "14    0.997763   0.001627        1.0   0.995238           11.0   \n",
       "1     0.997136   0.002863        1.0   0.992063            9.0   \n",
       "10    0.996649   0.002272        1.0   0.993651           10.0   \n",
       "5     0.996335   0.004643        1.0   0.987302            9.0   \n",
       "7     0.993571   0.010233        1.0   0.973413           10.0   \n",
       "\n",
       "    rf__min_samples_split  rfi_fs__n_features_  \n",
       "17                    3.0                 16.0  \n",
       "11                    3.0                 16.0  \n",
       "2                     2.0                 16.0  \n",
       "16                    3.0                 10.0  \n",
       "8                     2.0                 16.0  \n",
       "14                    2.0                 16.0  \n",
       "1                     2.0                 10.0  \n",
       "10                    3.0                 10.0  \n",
       "5                     3.0                 16.0  \n",
       "7                     2.0                 10.0  "
      ]
     },
     "execution_count": 74,
     "metadata": {},
     "output_type": "execute_result"
    }
   ],
   "source": [
    "results_RF = get_search_results(gs_pipe_RF)\n",
    "results_RF.head(10)"
   ]
  },
  {
   "cell_type": "markdown",
   "metadata": {},
   "source": [
    "From the result table above, we can observe that the RF model with `rf__max_depth`= **11**, `rf__min_samples_split`= **3** and `rfi_fs__n_features_`= **10** shows a slightly lower **AUC** score of **0.997** which is still the best among all the other models. Therefore, we can use this set of hyperparameters for the final performance comparision.\n",
    "\n",
    "Lets now create a visualization of the search results for 10 features."
   ]
  },
  {
   "cell_type": "code",
   "execution_count": 77,
   "metadata": {},
   "outputs": [
    {
     "data": {
      "image/png": "[encoded data removed]",
      "text/plain": [
       "<Figure size 432x288 with 1 Axes>"
      ]
     },
     "metadata": {
      "image/png": {
       "height": 281,
       "width": 439
      }
     },
     "output_type": "display_data"
    }
   ],
   "source": [
    "results_RF_10_features = results_RF[results_RF['rfi_fs__n_features_'] == 10.0].sort_values('rf__min_samples_split')\n",
    "\n",
    "\n",
    "for i in results_RF_10_features['rf__max_depth'].unique():\n",
    "    temp = results_RF_10_features[results_RF_10_features['rf__max_depth'] == i]\n",
    "    plt.plot(temp['rf__min_samples_split'], temp['mean_score'], marker = '.', label = i)\n",
    "    \n",
    "plt.legend(title = \"Max Depth\")\n",
    "plt.xlabel('Min Samples for Split')\n",
    "plt.ylabel(\"AUC Score\")\n",
    "plt.title(\"RF Performance Comparison with 10 Features - Extended\")\n",
    "plt.show()"
   ]
  },
  {
   "cell_type": "markdown",
   "metadata": {},
   "source": [
    "## Model Comparison"
   ]
  },
  {
   "cell_type": "markdown",
   "metadata": {},
   "source": [
    "During the hyperparameter tuning phase, we used the 70% of the original data for training within a `cross-validation` framework and we determined the hyperparameters values for each of the four classifiers. \n",
    "\n",
    "For an instance, we observed that the best set of hyperparameters for `KNN` classifier is **k=5** and **p=1** with the **best 10** features selected by the Random Forest Importance (RFI) feature selection method.\n",
    "\n",
    "We will now fit each tuned classifiers with best set of hyperparameters values on the 30% test data in a `cross validation` fashion to determine which classifier performs the best. This will allow us to test the classifiers on the data they haven't seen before during training phase. \n",
    "\n",
    "We will perform a `paired t-test` to determine if there is any difference between the performance of two tuned classifiers is **statistically significant**. \n",
    "\n",
    "Firstly, we will perform a `10-fold stratified cross-validation` (without repetitions) on each tuned classifier and we will use the same seed in each of the three cross-validation runs. Secondly, we will conduct a `paired t-test` for the **AUC score** between various (tuned) classifier combinations."
   ]
  },
  {
   "cell_type": "code",
   "execution_count": 78,
   "metadata": {},
   "outputs": [
    {
     "data": {
      "text/plain": [
       "0.913888888888889"
      ]
     },
     "execution_count": 78,
     "metadata": {},
     "output_type": "execute_result"
    }
   ],
   "source": [
    "from sklearn.model_selection import cross_val_score\n",
    "\n",
    "cv_method_ttest = StratifiedKFold(n_splits=10, random_state=111)\n",
    "\n",
    "cv_results_KNN = cross_val_score(estimator=gs_pipe_KNN.best_estimator_,\n",
    "                                 X=D_test,\n",
    "                                 y=t_test, \n",
    "                                 cv=cv_method_ttest, \n",
    "                                 n_jobs=-2,\n",
    "                                 scoring='roc_auc')\n",
    "cv_results_KNN.mean()"
   ]
  },
  {
   "cell_type": "code",
   "execution_count": 79,
   "metadata": {},
   "outputs": [
    {
     "data": {
      "text/plain": [
       "0.946111111111111"
      ]
     },
     "execution_count": 79,
     "metadata": {},
     "output_type": "execute_result"
    }
   ],
   "source": [
    "D_test_transformed = PowerTransformer().fit_transform(D_test)\n",
    "\n",
    "cv_results_NB = cross_val_score(estimator=gs_pipe_NB.best_estimator_,\n",
    "                                X=D_test_transformed,\n",
    "                                y=t_test, \n",
    "                                cv=cv_method_ttest, \n",
    "                                n_jobs=-2,\n",
    "                                scoring='roc_auc')\n",
    "cv_results_NB.mean()"
   ]
  },
  {
   "cell_type": "code",
   "execution_count": 80,
   "metadata": {},
   "outputs": [
    {
     "data": {
      "text/plain": [
       "0.9147222222222222"
      ]
     },
     "execution_count": 80,
     "metadata": {},
     "output_type": "execute_result"
    }
   ],
   "source": [
    "cv_results_DT = cross_val_score(estimator=gs_pipe_DT2.best_estimator_,\n",
    "                                X=D_test,\n",
    "                                y=t_test, \n",
    "                                cv=cv_method_ttest, \n",
    "                                n_jobs=-2,\n",
    "                                scoring='roc_auc')\n",
    "cv_results_DT.mean()"
   ]
  },
  {
   "cell_type": "code",
   "execution_count": 81,
   "metadata": {},
   "outputs": [
    {
     "data": {
      "text/plain": [
       "0.9764814814814814"
      ]
     },
     "execution_count": 81,
     "metadata": {},
     "output_type": "execute_result"
    }
   ],
   "source": [
    "cv_results_RF = cross_val_score(estimator=gs_pipe_RF.best_estimator_,\n",
    "                                X=D_test,\n",
    "                                y=t_test, \n",
    "                                cv=cv_method_ttest, \n",
    "                                n_jobs=-2,\n",
    "                                scoring='roc_auc')\n",
    "cv_results_RF.mean()"
   ]
  },
  {
   "cell_type": "markdown",
   "metadata": {},
   "source": [
    "In order to make the results **paired** in a statistical manner, we have fixed the `random state` as same during the cross-validation process for each of the tuned classifier which will ensure that each of the classifiers is fitted and tested on the same data proportions. \n",
    "\n",
    "Now, we will use the `stats.ttest_rel` function from the `SciPy` module to perform the (paired) t-tests."
   ]
  },
  {
   "cell_type": "code",
   "execution_count": 82,
   "metadata": {},
   "outputs": [
    {
     "name": "stdout",
     "output_type": "stream",
     "text": [
      "Paired t-test for KNN and NB \n",
      "Ttest_relResult(statistic=-2.0929620160535767, pvalue=0.0658661285912344)\n",
      "\n",
      "Paired t-test for KNN and RF \n",
      "Ttest_relResult(statistic=-2.914370721276025, pvalue=0.01718854611193821)\n",
      "\n",
      "Paired t-test for KNN and DT \n",
      "Ttest_relResult(statistic=-0.04608360778724354, pvalue=0.964249962149279)\n",
      "\n",
      "Paired t-test for DT and NB \n",
      "Ttest_relResult(statistic=-2.101719720510385, pvalue=0.06493679663087482)\n",
      "\n",
      "Paired t-test for DT and RF \n",
      "Ttest_relResult(statistic=-2.271955982486362, pvalue=0.0492054632519514)\n",
      "\n",
      "Paired t-test for RF and NB \n",
      "Ttest_relResult(statistic=1.6831557966215065, pvalue=0.12663531314235602)\n",
      "\n"
     ]
    }
   ],
   "source": [
    "from scipy import stats\n",
    "\n",
    "print(f'Paired t-test for KNN and NB \\n{stats.ttest_rel(cv_results_KNN, cv_results_NB)}\\n')\n",
    "print(f'Paired t-test for KNN and RF \\n{stats.ttest_rel(cv_results_KNN, cv_results_RF)}\\n')\n",
    "print(f'Paired t-test for KNN and DT \\n{stats.ttest_rel(cv_results_KNN, cv_results_DT)}\\n')\n",
    "print(f'Paired t-test for DT and NB \\n{stats.ttest_rel(cv_results_DT, cv_results_NB)}\\n')\n",
    "print(f'Paired t-test for DT and RF \\n{stats.ttest_rel(cv_results_DT, cv_results_RF)}\\n')\n",
    "print(f'Paired t-test for RF and NB \\n{stats.ttest_rel(cv_results_RF, cv_results_NB)}\\n')"
   ]
  },
  {
   "cell_type": "markdown",
   "metadata": {},
   "source": [
    "A **p-value < 0.05** indicates a **statistically significant difference**. Looking at the above results, we observed a **p-value<0.05** for the paired t-test of **RF-KNN** and **RF-DT**. However, for the paired t-test for **RF-NB** we observed a **p-value>0.05**. Therefore, we can say that there is statisitically significant difference between **RF-KNN** and **RF-DT** and not much significant difference in **RF-NB**. Therefore, we can conclude that **RF is statistically the best model** (in terms of AUC scores) when compared on predictions for the test data."
   ]
  },
  {
   "cell_type": "markdown",
   "metadata": {},
   "source": [
    "As we have used `AUC` for optimization of hyperparameters, we will compute a `classification_report` from `sklearn.metrics` to evaluate the models based on the Accuracy, Precision, Recall, F1 Score and Confusion Matrix."
   ]
  },
  {
   "cell_type": "code",
   "execution_count": 90,
   "metadata": {},
   "outputs": [],
   "source": [
    "pred_KNN = gs_pipe_KNN.predict(D_test)"
   ]
  },
  {
   "cell_type": "code",
   "execution_count": 91,
   "metadata": {},
   "outputs": [],
   "source": [
    "D_test_transformed = PowerTransformer().fit_transform(D_test)\n",
    "pred_NB = gs_pipe_NB.predict(D_test_transformed)"
   ]
  },
  {
   "cell_type": "code",
   "execution_count": 99,
   "metadata": {},
   "outputs": [],
   "source": [
    "pred_DT = gs_pipe_DT2.predict(D_test)"
   ]
  },
  {
   "cell_type": "code",
   "execution_count": 100,
   "metadata": {},
   "outputs": [],
   "source": [
    "pred_RF = gs_pipe_RF.predict(D_test)"
   ]
  },
  {
   "cell_type": "code",
   "execution_count": 101,
   "metadata": {},
   "outputs": [
    {
     "name": "stdout",
     "output_type": "stream",
     "text": [
      "\n",
      "Classification report for K-Nearest Neighbor\n",
      "              precision    recall  f1-score   support\n",
      "\n",
      "         0.0       0.93      0.95      0.94        60\n",
      "         1.0       0.97      0.96      0.96        96\n",
      "\n",
      "    accuracy                           0.96       156\n",
      "   macro avg       0.95      0.95      0.95       156\n",
      "weighted avg       0.96      0.96      0.96       156\n",
      "\n",
      "\n",
      "Classification report for Naive Bayes\n",
      "              precision    recall  f1-score   support\n",
      "\n",
      "         0.0       0.86      0.90      0.88        60\n",
      "         1.0       0.94      0.91      0.92        96\n",
      "\n",
      "    accuracy                           0.90       156\n",
      "   macro avg       0.90      0.90      0.90       156\n",
      "weighted avg       0.91      0.90      0.90       156\n",
      "\n",
      "\n",
      "Classification report for Decision Tree\n",
      "              precision    recall  f1-score   support\n",
      "\n",
      "         0.0       0.95      0.92      0.93        60\n",
      "         1.0       0.95      0.97      0.96        96\n",
      "\n",
      "    accuracy                           0.95       156\n",
      "   macro avg       0.95      0.94      0.95       156\n",
      "weighted avg       0.95      0.95      0.95       156\n",
      "\n",
      "\n",
      "Classification report for Random Forest\n",
      "              precision    recall  f1-score   support\n",
      "\n",
      "         0.0       0.93      0.95      0.94        60\n",
      "         1.0       0.97      0.96      0.96        96\n",
      "\n",
      "    accuracy                           0.96       156\n",
      "   macro avg       0.95      0.95      0.95       156\n",
      "weighted avg       0.96      0.96      0.96       156\n",
      "\n"
     ]
    }
   ],
   "source": [
    "from sklearn import metrics\n",
    "print(\"\\nClassification report for K-Nearest Neighbor\") \n",
    "print(metrics.classification_report(t_test, pred_KNN))\n",
    "print(\"\\nClassification report for Naive Bayes\") \n",
    "print(metrics.classification_report(t_test, pred_NB))\n",
    "print(\"\\nClassification report for Decision Tree\") \n",
    "print(metrics.classification_report(t_test, pred_DT))\n",
    "print(\"\\nClassification report for Random Forest\") \n",
    "print(metrics.classification_report(t_test, pred_RF))"
   ]
  },
  {
   "cell_type": "markdown",
   "metadata": {},
   "source": [
    "Now, we will compute the Confusion Matrix for each classifier."
   ]
  },
  {
   "cell_type": "code",
   "execution_count": 102,
   "metadata": {},
   "outputs": [
    {
     "name": "stdout",
     "output_type": "stream",
     "text": [
      "\n",
      "Confusion matrix for K-Nearest Neighbor\n",
      "[[57  3]\n",
      " [ 4 92]]\n",
      "\n",
      "Confusion matrix for Naive Bayes\n",
      "[[54  6]\n",
      " [ 9 87]]\n",
      "\n",
      "Confusion matrix for Decision Tree\n",
      "[[55  5]\n",
      " [ 3 93]]\n",
      "\n",
      "Confusion matrix for Random Forest\n",
      "[[57  3]\n",
      " [ 4 92]]\n"
     ]
    }
   ],
   "source": [
    "from sklearn import metrics\n",
    "print(\"\\nConfusion matrix for K-Nearest Neighbor\") \n",
    "print(metrics.confusion_matrix(t_test, pred_KNN))\n",
    "print(\"\\nConfusion matrix for Naive Bayes\") \n",
    "print(metrics.confusion_matrix(t_test, pred_NB))\n",
    "print(\"\\nConfusion matrix for Decision Tree\") \n",
    "print(metrics.confusion_matrix(t_test, pred_DT))\n",
    "print(\"\\nConfusion matrix for Random Forest\") \n",
    "print(metrics.confusion_matrix(t_test, pred_RF))"
   ]
  },
  {
   "cell_type": "markdown",
   "metadata": {},
   "source": [
    "Suppose we are a health care organization and we would like to detect the individuals having diabetic condition. For that if we would choose **recall** as the performance metric, which is equivalent to the `True Positive Rate (TPR)` then we can say that `Decision Tree` will be the **best performer** as it produced the **highest recall score** of **0.97** for patients with positive class of diabetic condition. \n",
    "\n",
    "However, the confusion matrices are not inline with the classification reports. With the confusion matrix, we can observe that `KNN` and `RF` have better results as compared to `DT`. The **AUC** score on the test data for `RF` is observed to be the **highest** among all the models along with slightly lower **recall** value of **0.96** with a **high** number of `True Positives` and `True Negatives` for `RF` as compared to `DT`. Therefore, it is safe to say that the optimal model after the comparision is `Random Forest (RF)`."
   ]
  },
  {
   "cell_type": "markdown",
   "metadata": {},
   "source": [
    "# Critique and Limitations"
   ]
  },
  {
   "cell_type": "markdown",
   "metadata": {},
   "source": [
    "There are a few strengths and weaknesses of our modelling strategies. In this section we will discuss about both of them.\n",
    "\n",
    "First, during our model building phase, we implemented a black-box approach as we were mainly focusing on the predictive performance over interpretability and lack the appropriate in-depth analysis of feature selection along with the tuning of hyperparameters.\n",
    "\n",
    "Second, since, we were working on a dataset with fewer observations, we had to randomize the data during model fitting. Due to which the performance metric for each model was changing continuously which resulted in difficulty in estimating the best set of hyperparameters. Moreover, there is also a requirement of in-depth analysis features to identify the optimal set of features for different models to produce a model that is best for prediction.\n",
    "\n",
    "Third, we know data is extremely valuable, therefore, we could re-run the experiment with the entire data used for training and test the models with a new set of testing data to check how the model will perform in real world.\n",
    "\n",
    "Finally, we can further expand the hyperparameter search space by including more parameters to the classification method and we can further tune Decision Tree to build better models. \n",
    "\n",
    "\n",
    "\n",
    "\n",
    "\n",
    "\n"
   ]
  },
  {
   "cell_type": "markdown",
   "metadata": {},
   "source": [
    "# Summary and Conclusion"
   ]
  },
  {
   "cell_type": "markdown",
   "metadata": {},
   "source": [
    "### Project Summary"
   ]
  },
  {
   "cell_type": "markdown",
   "metadata": {},
   "source": [
    "- Phase I\n",
    "\n",
    "In this phase, we collected the data about the sign and symptoms of newly diabetic or would be diabetic patient. The aim of the experiment was explore the data such as exploring the descriptive features in the dataset, **Data Cleaning and Preprocessing** and performing **Exploratory Data Analysis (EDA)**.<br>\n",
    "\n",
    "- Phase II\n",
    "\n",
    "This phase included **Data Preprocessing** and **Predictive Modelling**. First, for preparing the data for predictive modelling, the data was encoded and normalized. `Feature Selection and Ranking` was performed to extract the best set of features significant for predictive modelling. \n",
    "\n",
    "Predictive models such as `K-Nearest Neighbors`, `Decision Tree`, `Naive Bayes` and `Random Forest` were built and tuned using hyperparameter tuning via `cross-validation` whose performances were compared using **AUC** score and **paired t-tests** to determine statistical significance differences between different combinations of these models.\n",
    "\n",
    "Finally, best model was selected based on the **AUC** score, **classification reports** and **confusion matrices**."
   ]
  },
  {
   "cell_type": "markdown",
   "metadata": {},
   "source": [
    "### Summary of Findings"
   ]
  },
  {
   "cell_type": "markdown",
   "metadata": {},
   "source": [
    "- Phase I\n",
    "\n",
    "After data exploration, observed that most of the patients, around `62.18%` were **male** and only `37.82%` were **female**. Around `60.68%` of patients were diagnosed with **diabetes**. \n",
    "\n",
    "We observed that a significant number of female patients were diagnosed `positive` for diabetes whereas a relatively less number of male patients diagnosed `positive`. Moreover, there were more male patients who diagnosed `negative` for diabetes and that clearly represented that **female patients were susceptible to diabetes**.\n",
    "\n",
    "It is also observed that a majority of patients diagnosed `positive` with diabetes also had medical conditions like **Polyuria**, **Polydipsia**, **Partial Paresis** and **Irritablility**. However, a large number of patients diagnosed `positive` did not poses conditions like **Polyphagia**, **Partial Paresis**, **Alopecia** and **Irritability**.\n",
    "\n",
    "After categorizing patients based on their gender and age group, we observed that female from age group `30-49` years were **highly susceptible** to diabetes followed by those female patients who were in their late `50-65` years. However, for male patients, no such pattern was detected for diabetic condition as a large number of male patients diagnosed `negative` for the age group `20-29` and `30-49` years. \n",
    "\n",
    "Clearly, **Obesity** and **Genital Thrush** did not seem to play a major role in determining patient's diabetic condition. Similarly, **sudden weight loss** could not significantly determine patient's diabetic condition either. However, female patients diagnosed `positive` with diabetes also experienced a sudden loss in their weight. Also, patients diagnosed `positive` with diabetes tend to experience **weakness** in their body and a slightly **vision blur** in `female patients`.\n",
    "\n",
    "Among the patients diagnosed `positive`, female patients had a higher tendency of having **Polyphagia** as compared to male patients.  \n",
    "\n",
    "- Phase II\n",
    "\n",
    "On observing **recall** as the performance metric, which is equivalent to the `True Positive Rate (TPR)` we could conclude that `Decision Tree` was the **best performer** as it produced the **highest recall score** of **0.97** for patients with positive class of diabetic condition. The `RF` and `KNN` showed a slighly less **recall score** of **0.96**.\n",
    "\n",
    "However, the confusion matrices came out to be not inlined with the classification reports as we observed that `KNN` and `RF` had better results as compared to `DT`. The **AUC** score on the test data for `RF` was observed to be similar to `KNN` and **higher** than the `DT` and `NB` models along with a **high** number of `True Positives` and `True Negatives` as compared to `DT` and `NB`. \n",
    "\n",
    "We also observed a **p-value<0.05** for the paired t-test of **RF-KNN** and **RF-DT**. However, for the paired t-test for **RF-NB** we observed a **p-value>0.05**. Therefore, we can say that there is statisitically significant difference between **RF-KNN** and **RF-DT** and not much significant difference in **RF-NB**. Therefore, on the basis of highest **AUC** score on the test data along with classification reports and confusion matrix scores, it is safe to say that the optimal model after the comparision is `Random Forest (RF)`.\n"
   ]
  },
  {
   "cell_type": "markdown",
   "metadata": {},
   "source": [
    "### Conclusion"
   ]
  },
  {
   "cell_type": "markdown",
   "metadata": {},
   "source": [
    "The `Random Forest Classification` model with 10 of the best features selected by `Random Forest Importance (RFI)` produces the highest cross-validated **AUC** score on the training data. In addition, when evaluated on the test data (in a cross-validated fashion), the Random Forest model again outperforms all `K-Nearest Neighbors`, `Naive Bayes` and `Decision Tree` models with respect to AUC. However, the `Decision Tree` model yields the highest **recall** score on the test data. We also observe that our models are not very sensitive to the number of features as selected by RFI when conditioned on the values of the hyperparameters in general as they produced nearly the same AUC scores with different set of hyperparameters. For this reason, it seems that working with 10 features is preferable over working with the entire set of predictive features, which potentially avoids overfitting of the model and results in models that easy to develop and tune and require less computational time."
   ]
  }
 ],
 "metadata": {
  "kernelspec": {
   "display_name": "Python 3",
   "language": "python",
   "name": "python3"
  },
  "language_info": {
   "codemirror_mode": {
    "name": "ipython",
    "version": 3
   },
   "file_extension": ".py",
   "mimetype": "text/x-python",
   "name": "python",
   "nbconvert_exporter": "python",
   "pygments_lexer": "ipython3",
   "version": "3.8.3"
  },
  "toc": {
   "base_numbering": "1",
   "nav_menu": {},
   "number_sections": true,
   "sideBar": true,
   "skip_h1_title": false,
   "title_cell": "Table of Contents",
   "title_sidebar": "Contents",
   "toc_cell": true,
   "toc_position": {},
   "toc_section_display": true,
   "toc_window_display": false
  }
 },
 "nbformat": 4,
 "nbformat_minor": 4
}
